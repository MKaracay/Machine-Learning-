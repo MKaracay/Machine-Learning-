{
 "cells": [
  {
   "cell_type": "markdown",
   "metadata": {},
   "source": [
    "# Linear Regression Model"
   ]
  },
  {
   "cell_type": "markdown",
   "metadata": {},
   "source": [
    "# PROJET_3(MINI)"
   ]
  },
  {
   "cell_type": "code",
   "execution_count": 22,
   "metadata": {},
   "outputs": [
    {
     "data": {
      "text/html": [
       "<div>\n",
       "<style scoped>\n",
       "    .dataframe tbody tr th:only-of-type {\n",
       "        vertical-align: middle;\n",
       "    }\n",
       "\n",
       "    .dataframe tbody tr th {\n",
       "        vertical-align: top;\n",
       "    }\n",
       "\n",
       "    .dataframe thead th {\n",
       "        text-align: right;\n",
       "    }\n",
       "</style>\n",
       "<table border=\"1\" class=\"dataframe\">\n",
       "  <thead>\n",
       "    <tr style=\"text-align: right;\">\n",
       "      <th></th>\n",
       "      <th>TV</th>\n",
       "      <th>radio</th>\n",
       "      <th>newspaper</th>\n",
       "      <th>sales</th>\n",
       "    </tr>\n",
       "  </thead>\n",
       "  <tbody>\n",
       "    <tr>\n",
       "      <th>1</th>\n",
       "      <td>230.1</td>\n",
       "      <td>37.8</td>\n",
       "      <td>69.2</td>\n",
       "      <td>22.1</td>\n",
       "    </tr>\n",
       "    <tr>\n",
       "      <th>2</th>\n",
       "      <td>44.5</td>\n",
       "      <td>39.3</td>\n",
       "      <td>45.1</td>\n",
       "      <td>10.4</td>\n",
       "    </tr>\n",
       "    <tr>\n",
       "      <th>3</th>\n",
       "      <td>17.2</td>\n",
       "      <td>45.9</td>\n",
       "      <td>69.3</td>\n",
       "      <td>9.3</td>\n",
       "    </tr>\n",
       "    <tr>\n",
       "      <th>4</th>\n",
       "      <td>151.5</td>\n",
       "      <td>41.3</td>\n",
       "      <td>58.5</td>\n",
       "      <td>18.5</td>\n",
       "    </tr>\n",
       "    <tr>\n",
       "      <th>5</th>\n",
       "      <td>180.8</td>\n",
       "      <td>10.8</td>\n",
       "      <td>58.4</td>\n",
       "      <td>12.9</td>\n",
       "    </tr>\n",
       "  </tbody>\n",
       "</table>\n",
       "</div>"
      ],
      "text/plain": [
       "      TV  radio  newspaper  sales\n",
       "1  230.1   37.8       69.2   22.1\n",
       "2   44.5   39.3       45.1   10.4\n",
       "3   17.2   45.9       69.3    9.3\n",
       "4  151.5   41.3       58.5   18.5\n",
       "5  180.8   10.8       58.4   12.9"
      ]
     },
     "execution_count": 22,
     "metadata": {},
     "output_type": "execute_result"
    }
   ],
   "source": [
    "import pandas as pd\n",
    "df = pd.read_csv(\"Advertising.csv\", index_col = 0)\n",
    "df.head()"
   ]
  },
  {
   "cell_type": "code",
   "execution_count": 23,
   "metadata": {},
   "outputs": [
    {
     "data": {
      "text/html": [
       "<div>\n",
       "<style scoped>\n",
       "    .dataframe tbody tr th:only-of-type {\n",
       "        vertical-align: middle;\n",
       "    }\n",
       "\n",
       "    .dataframe tbody tr th {\n",
       "        vertical-align: top;\n",
       "    }\n",
       "\n",
       "    .dataframe thead th {\n",
       "        text-align: right;\n",
       "    }\n",
       "</style>\n",
       "<table border=\"1\" class=\"dataframe\">\n",
       "  <thead>\n",
       "    <tr style=\"text-align: right;\">\n",
       "      <th></th>\n",
       "      <th>count</th>\n",
       "      <th>mean</th>\n",
       "      <th>std</th>\n",
       "      <th>min</th>\n",
       "      <th>25%</th>\n",
       "      <th>50%</th>\n",
       "      <th>75%</th>\n",
       "      <th>max</th>\n",
       "    </tr>\n",
       "  </thead>\n",
       "  <tbody>\n",
       "    <tr>\n",
       "      <th>TV</th>\n",
       "      <td>200.0</td>\n",
       "      <td>147.0425</td>\n",
       "      <td>85.854236</td>\n",
       "      <td>0.7</td>\n",
       "      <td>74.375</td>\n",
       "      <td>149.75</td>\n",
       "      <td>218.825</td>\n",
       "      <td>296.4</td>\n",
       "    </tr>\n",
       "    <tr>\n",
       "      <th>radio</th>\n",
       "      <td>200.0</td>\n",
       "      <td>23.2640</td>\n",
       "      <td>14.846809</td>\n",
       "      <td>0.0</td>\n",
       "      <td>9.975</td>\n",
       "      <td>22.90</td>\n",
       "      <td>36.525</td>\n",
       "      <td>49.6</td>\n",
       "    </tr>\n",
       "    <tr>\n",
       "      <th>newspaper</th>\n",
       "      <td>200.0</td>\n",
       "      <td>30.5540</td>\n",
       "      <td>21.778621</td>\n",
       "      <td>0.3</td>\n",
       "      <td>12.750</td>\n",
       "      <td>25.75</td>\n",
       "      <td>45.100</td>\n",
       "      <td>114.0</td>\n",
       "    </tr>\n",
       "    <tr>\n",
       "      <th>sales</th>\n",
       "      <td>200.0</td>\n",
       "      <td>14.0225</td>\n",
       "      <td>5.217457</td>\n",
       "      <td>1.6</td>\n",
       "      <td>10.375</td>\n",
       "      <td>12.90</td>\n",
       "      <td>17.400</td>\n",
       "      <td>27.0</td>\n",
       "    </tr>\n",
       "  </tbody>\n",
       "</table>\n",
       "</div>"
      ],
      "text/plain": [
       "           count      mean        std  min     25%     50%      75%    max\n",
       "TV         200.0  147.0425  85.854236  0.7  74.375  149.75  218.825  296.4\n",
       "radio      200.0   23.2640  14.846809  0.0   9.975   22.90   36.525   49.6\n",
       "newspaper  200.0   30.5540  21.778621  0.3  12.750   25.75   45.100  114.0\n",
       "sales      200.0   14.0225   5.217457  1.6  10.375   12.90   17.400   27.0"
      ]
     },
     "execution_count": 23,
     "metadata": {},
     "output_type": "execute_result"
    }
   ],
   "source": [
    "df.describe().T"
   ]
  },
  {
   "cell_type": "code",
   "execution_count": 24,
   "metadata": {},
   "outputs": [
    {
     "name": "stdout",
     "output_type": "stream",
     "text": [
      "<class 'pandas.core.frame.DataFrame'>\n",
      "Int64Index: 200 entries, 1 to 200\n",
      "Data columns (total 4 columns):\n",
      " #   Column     Non-Null Count  Dtype  \n",
      "---  ------     --------------  -----  \n",
      " 0   TV         200 non-null    float64\n",
      " 1   radio      200 non-null    float64\n",
      " 2   newspaper  200 non-null    float64\n",
      " 3   sales      200 non-null    float64\n",
      "dtypes: float64(4)\n",
      "memory usage: 7.8 KB\n"
     ]
    }
   ],
   "source": [
    "df.info()"
   ]
  },
  {
   "cell_type": "code",
   "execution_count": 25,
   "metadata": {},
   "outputs": [
    {
     "data": {
      "image/png": "[encoded data removed]",
      "text/plain": [
       "<Figure size 432x432 with 3 Axes>"
      ]
     },
     "metadata": {
      "needs_background": "light"
     },
     "output_type": "display_data"
    }
   ],
   "source": [
    "import seaborn as sns\n",
    "sns.jointplot(x = \"TV\", y = \"sales\", data = df, kind = \"reg\");"
   ]
  },
  {
   "cell_type": "code",
   "execution_count": 26,
   "metadata": {},
   "outputs": [
    {
     "data": {
      "text/html": [
       "<div>\n",
       "<style scoped>\n",
       "    .dataframe tbody tr th:only-of-type {\n",
       "        vertical-align: middle;\n",
       "    }\n",
       "\n",
       "    .dataframe tbody tr th {\n",
       "        vertical-align: top;\n",
       "    }\n",
       "\n",
       "    .dataframe thead th {\n",
       "        text-align: right;\n",
       "    }\n",
       "</style>\n",
       "<table border=\"1\" class=\"dataframe\">\n",
       "  <thead>\n",
       "    <tr style=\"text-align: right;\">\n",
       "      <th></th>\n",
       "      <th>TV</th>\n",
       "      <th>radio</th>\n",
       "      <th>newspaper</th>\n",
       "      <th>sales</th>\n",
       "    </tr>\n",
       "  </thead>\n",
       "  <tbody>\n",
       "    <tr>\n",
       "      <th>1</th>\n",
       "      <td>230.1</td>\n",
       "      <td>37.8</td>\n",
       "      <td>69.2</td>\n",
       "      <td>22.1</td>\n",
       "    </tr>\n",
       "    <tr>\n",
       "      <th>2</th>\n",
       "      <td>44.5</td>\n",
       "      <td>39.3</td>\n",
       "      <td>45.1</td>\n",
       "      <td>10.4</td>\n",
       "    </tr>\n",
       "    <tr>\n",
       "      <th>3</th>\n",
       "      <td>17.2</td>\n",
       "      <td>45.9</td>\n",
       "      <td>69.3</td>\n",
       "      <td>9.3</td>\n",
       "    </tr>\n",
       "    <tr>\n",
       "      <th>4</th>\n",
       "      <td>151.5</td>\n",
       "      <td>41.3</td>\n",
       "      <td>58.5</td>\n",
       "      <td>18.5</td>\n",
       "    </tr>\n",
       "    <tr>\n",
       "      <th>5</th>\n",
       "      <td>180.8</td>\n",
       "      <td>10.8</td>\n",
       "      <td>58.4</td>\n",
       "      <td>12.9</td>\n",
       "    </tr>\n",
       "  </tbody>\n",
       "</table>\n",
       "</div>"
      ],
      "text/plain": [
       "      TV  radio  newspaper  sales\n",
       "1  230.1   37.8       69.2   22.1\n",
       "2   44.5   39.3       45.1   10.4\n",
       "3   17.2   45.9       69.3    9.3\n",
       "4  151.5   41.3       58.5   18.5\n",
       "5  180.8   10.8       58.4   12.9"
      ]
     },
     "execution_count": 26,
     "metadata": {},
     "output_type": "execute_result"
    }
   ],
   "source": [
    "df.head()"
   ]
  },
  {
   "cell_type": "code",
   "execution_count": 27,
   "metadata": {},
   "outputs": [],
   "source": [
    "from sklearn.linear_model import LinearRegression"
   ]
  },
  {
   "cell_type": "code",
   "execution_count": 28,
   "metadata": {},
   "outputs": [],
   "source": [
    "X = df[[\"TV\"]]"
   ]
  },
  {
   "cell_type": "code",
   "execution_count": 29,
   "metadata": {},
   "outputs": [
    {
     "data": {
      "text/html": [
       "<div>\n",
       "<style scoped>\n",
       "    .dataframe tbody tr th:only-of-type {\n",
       "        vertical-align: middle;\n",
       "    }\n",
       "\n",
       "    .dataframe tbody tr th {\n",
       "        vertical-align: top;\n",
       "    }\n",
       "\n",
       "    .dataframe thead th {\n",
       "        text-align: right;\n",
       "    }\n",
       "</style>\n",
       "<table border=\"1\" class=\"dataframe\">\n",
       "  <thead>\n",
       "    <tr style=\"text-align: right;\">\n",
       "      <th></th>\n",
       "      <th>TV</th>\n",
       "    </tr>\n",
       "  </thead>\n",
       "  <tbody>\n",
       "    <tr>\n",
       "      <th>1</th>\n",
       "      <td>230.1</td>\n",
       "    </tr>\n",
       "    <tr>\n",
       "      <th>2</th>\n",
       "      <td>44.5</td>\n",
       "    </tr>\n",
       "    <tr>\n",
       "      <th>3</th>\n",
       "      <td>17.2</td>\n",
       "    </tr>\n",
       "    <tr>\n",
       "      <th>4</th>\n",
       "      <td>151.5</td>\n",
       "    </tr>\n",
       "    <tr>\n",
       "      <th>5</th>\n",
       "      <td>180.8</td>\n",
       "    </tr>\n",
       "  </tbody>\n",
       "</table>\n",
       "</div>"
      ],
      "text/plain": [
       "      TV\n",
       "1  230.1\n",
       "2   44.5\n",
       "3   17.2\n",
       "4  151.5\n",
       "5  180.8"
      ]
     },
     "execution_count": 29,
     "metadata": {},
     "output_type": "execute_result"
    }
   ],
   "source": [
    "X.head()"
   ]
  },
  {
   "cell_type": "code",
   "execution_count": 30,
   "metadata": {},
   "outputs": [],
   "source": [
    "y = df[[\"sales\"]]"
   ]
  },
  {
   "cell_type": "code",
   "execution_count": 31,
   "metadata": {},
   "outputs": [],
   "source": [
    "#model"
   ]
  },
  {
   "cell_type": "code",
   "execution_count": 32,
   "metadata": {},
   "outputs": [],
   "source": [
    "reg_model = LinearRegression()"
   ]
  },
  {
   "cell_type": "code",
   "execution_count": 33,
   "metadata": {},
   "outputs": [
    {
     "data": {
      "text/plain": [
       "LinearRegression(copy_X=True, fit_intercept=True, n_jobs=None, normalize=False)"
      ]
     },
     "execution_count": 33,
     "metadata": {},
     "output_type": "execute_result"
    }
   ],
   "source": [
    "reg_model.fit(X, y)"
   ]
  },
  {
   "cell_type": "code",
   "execution_count": 34,
   "metadata": {},
   "outputs": [
    {
     "data": {
      "text/plain": [
       "LinearRegression(copy_X=True, fit_intercept=True, n_jobs=None, normalize=False)"
      ]
     },
     "execution_count": 34,
     "metadata": {},
     "output_type": "execute_result"
    }
   ],
   "source": [
    "reg_model"
   ]
  },
  {
   "cell_type": "code",
   "execution_count": 35,
   "metadata": {},
   "outputs": [
    {
     "data": {
      "text/plain": [
       "array([7.03259355])"
      ]
     },
     "execution_count": 35,
     "metadata": {},
     "output_type": "execute_result"
    }
   ],
   "source": [
    "reg_model.intercept_"
   ]
  },
  {
   "cell_type": "code",
   "execution_count": 36,
   "metadata": {},
   "outputs": [
    {
     "data": {
      "text/plain": [
       "array([[0.04753664]])"
      ]
     },
     "execution_count": 36,
     "metadata": {},
     "output_type": "execute_result"
    }
   ],
   "source": [
    "reg_model.coef_"
   ]
  },
  {
   "cell_type": "code",
   "execution_count": 37,
   "metadata": {},
   "outputs": [
    {
     "data": {
      "text/plain": [
       "0.611875050850071"
      ]
     },
     "execution_count": 37,
     "metadata": {},
     "output_type": "execute_result"
    }
   ],
   "source": [
    "reg_model.score(X, y)"
   ]
  },
  {
   "cell_type": "code",
   "execution_count": 38,
   "metadata": {},
   "outputs": [],
   "source": [
    "#Prediction"
   ]
  },
  {
   "cell_type": "code",
   "execution_count": 39,
   "metadata": {},
   "outputs": [],
   "source": [
    "#y_hat = 7.03 + 0.04*xi"
   ]
  },
  {
   "cell_type": "code",
   "execution_count": 40,
   "metadata": {},
   "outputs": [
    {
     "data": {
      "text/plain": [
       "8.63"
      ]
     },
     "execution_count": 40,
     "metadata": {},
     "output_type": "execute_result"
    }
   ],
   "source": [
    "7.03 + 0.04*40"
   ]
  },
  {
   "cell_type": "code",
   "execution_count": 1,
   "metadata": {},
   "outputs": [
    {
     "ename": "NameError",
     "evalue": "name 'df' is not defined",
     "output_type": "error",
     "traceback": [
      "\u001b[1;31m---------------------------------------------------------------------------\u001b[0m",
      "\u001b[1;31mNameError\u001b[0m                                 Traceback (most recent call last)",
      "\u001b[1;32m<ipython-input-1-c04f03f27447>\u001b[0m in \u001b[0;36m<module>\u001b[1;34m\u001b[0m\n\u001b[0;32m      1\u001b[0m \u001b[1;32mimport\u001b[0m \u001b[0mseaborn\u001b[0m \u001b[1;32mas\u001b[0m \u001b[0msns\u001b[0m\u001b[1;33m\u001b[0m\u001b[1;33m\u001b[0m\u001b[0m\n\u001b[0;32m      2\u001b[0m \u001b[1;32mimport\u001b[0m \u001b[0mmatplotlib\u001b[0m\u001b[1;33m.\u001b[0m\u001b[0mpyplot\u001b[0m \u001b[1;32mas\u001b[0m \u001b[0mplt\u001b[0m\u001b[1;33m\u001b[0m\u001b[1;33m\u001b[0m\u001b[0m\n\u001b[1;32m----> 3\u001b[1;33m \u001b[0mg\u001b[0m \u001b[1;33m=\u001b[0m \u001b[0msns\u001b[0m\u001b[1;33m.\u001b[0m\u001b[0mregplot\u001b[0m\u001b[1;33m(\u001b[0m\u001b[0mdf\u001b[0m\u001b[1;33m[\u001b[0m\u001b[1;34m\"TV\"\u001b[0m\u001b[1;33m]\u001b[0m\u001b[1;33m,\u001b[0m \u001b[0mdf\u001b[0m\u001b[1;33m[\u001b[0m\u001b[1;34m\"sales\"\u001b[0m\u001b[1;33m]\u001b[0m\u001b[1;33m,\u001b[0m \u001b[0mci\u001b[0m\u001b[1;33m=\u001b[0m\u001b[1;32mNone\u001b[0m\u001b[1;33m,\u001b[0m \u001b[0mscatter_kws\u001b[0m\u001b[1;33m=\u001b[0m\u001b[1;33m{\u001b[0m\u001b[1;34m'color'\u001b[0m\u001b[1;33m:\u001b[0m\u001b[1;34m'r'\u001b[0m\u001b[1;33m,\u001b[0m \u001b[1;34m's'\u001b[0m\u001b[1;33m:\u001b[0m\u001b[1;36m9\u001b[0m\u001b[1;33m}\u001b[0m\u001b[1;33m)\u001b[0m\u001b[1;33m\u001b[0m\u001b[1;33m\u001b[0m\u001b[0m\n\u001b[0m\u001b[0;32m      4\u001b[0m \u001b[0mg\u001b[0m\u001b[1;33m.\u001b[0m\u001b[0mset_title\u001b[0m\u001b[1;33m(\u001b[0m\u001b[1;34m\"Model Equition: Sales = 7.03 + TV*0.05\"\u001b[0m\u001b[1;33m)\u001b[0m\u001b[1;33m\u001b[0m\u001b[1;33m\u001b[0m\u001b[0m\n\u001b[0;32m      5\u001b[0m \u001b[0mg\u001b[0m\u001b[1;33m.\u001b[0m\u001b[0mset_ylabel\u001b[0m\u001b[1;33m(\u001b[0m\u001b[1;34m\"Number of Sales\"\u001b[0m\u001b[1;33m)\u001b[0m\u001b[1;33m\u001b[0m\u001b[1;33m\u001b[0m\u001b[0m\n",
      "\u001b[1;31mNameError\u001b[0m: name 'df' is not defined"
     ]
    }
   ],
   "source": [
    "import seaborn as sns\n",
    "import matplotlib.pyplot as plt\n",
    "g = sns.regplot(df[\"TV\"], df[\"sales\"], ci=None, scatter_kws={'color':'r', 's':9})\n",
    "g.set_title(\"Model Equition: Sales = 7.03 + TV*0.05\")\n",
    "g.set_ylabel(\"Number of Sales\")\n",
    "g.set_xlabel(\"TV Expenditure\")\n",
    "plt.xlim(-10,310)\n",
    "plt.ylim(bottom=0);"
   ]
  },
  {
   "cell_type": "markdown",
   "metadata": {},
   "source": [
    "Sales = 7.03 + 0.05*TV"
   ]
  },
  {
   "cell_type": "code",
   "execution_count": 42,
   "metadata": {},
   "outputs": [
    {
     "data": {
      "text/plain": [
       "array([[30.80091377]])"
      ]
     },
     "execution_count": 42,
     "metadata": {},
     "output_type": "execute_result"
    }
   ],
   "source": [
    "reg_model.intercept_ + reg_model.coef_*500"
   ]
  },
  {
   "cell_type": "code",
   "execution_count": 43,
   "metadata": {},
   "outputs": [
    {
     "data": {
      "text/plain": [
       "array([[14.87613922]])"
      ]
     },
     "execution_count": 43,
     "metadata": {},
     "output_type": "execute_result"
    }
   ],
   "source": [
    "reg_model.predict([[165]])"
   ]
  },
  {
   "cell_type": "code",
   "execution_count": 44,
   "metadata": {},
   "outputs": [],
   "source": [
    "yeni_veri = [[5],[15],[30]]"
   ]
  },
  {
   "cell_type": "code",
   "execution_count": 45,
   "metadata": {},
   "outputs": [
    {
     "data": {
      "text/plain": [
       "array([[7.27027675],\n",
       "       [7.74564316],\n",
       "       [8.45869276]])"
      ]
     },
     "execution_count": 45,
     "metadata": {},
     "output_type": "execute_result"
    }
   ],
   "source": [
    "reg_model.predict(yeni_veri)"
   ]
  },
  {
   "cell_type": "markdown",
   "metadata": {},
   "source": [
    "# Multiple Linear Regresyon"
   ]
  },
  {
   "cell_type": "code",
   "execution_count": 46,
   "metadata": {},
   "outputs": [
    {
     "data": {
      "text/html": [
       "<div>\n",
       "<style scoped>\n",
       "    .dataframe tbody tr th:only-of-type {\n",
       "        vertical-align: middle;\n",
       "    }\n",
       "\n",
       "    .dataframe tbody tr th {\n",
       "        vertical-align: top;\n",
       "    }\n",
       "\n",
       "    .dataframe thead th {\n",
       "        text-align: right;\n",
       "    }\n",
       "</style>\n",
       "<table border=\"1\" class=\"dataframe\">\n",
       "  <thead>\n",
       "    <tr style=\"text-align: right;\">\n",
       "      <th></th>\n",
       "      <th>TV</th>\n",
       "      <th>radio</th>\n",
       "      <th>newspaper</th>\n",
       "      <th>sales</th>\n",
       "    </tr>\n",
       "  </thead>\n",
       "  <tbody>\n",
       "    <tr>\n",
       "      <th>1</th>\n",
       "      <td>230.1</td>\n",
       "      <td>37.8</td>\n",
       "      <td>69.2</td>\n",
       "      <td>22.1</td>\n",
       "    </tr>\n",
       "    <tr>\n",
       "      <th>2</th>\n",
       "      <td>44.5</td>\n",
       "      <td>39.3</td>\n",
       "      <td>45.1</td>\n",
       "      <td>10.4</td>\n",
       "    </tr>\n",
       "    <tr>\n",
       "      <th>3</th>\n",
       "      <td>17.2</td>\n",
       "      <td>45.9</td>\n",
       "      <td>69.3</td>\n",
       "      <td>9.3</td>\n",
       "    </tr>\n",
       "    <tr>\n",
       "      <th>4</th>\n",
       "      <td>151.5</td>\n",
       "      <td>41.3</td>\n",
       "      <td>58.5</td>\n",
       "      <td>18.5</td>\n",
       "    </tr>\n",
       "    <tr>\n",
       "      <th>5</th>\n",
       "      <td>180.8</td>\n",
       "      <td>10.8</td>\n",
       "      <td>58.4</td>\n",
       "      <td>12.9</td>\n",
       "    </tr>\n",
       "  </tbody>\n",
       "</table>\n",
       "</div>"
      ],
      "text/plain": [
       "      TV  radio  newspaper  sales\n",
       "1  230.1   37.8       69.2   22.1\n",
       "2   44.5   39.3       45.1   10.4\n",
       "3   17.2   45.9       69.3    9.3\n",
       "4  151.5   41.3       58.5   18.5\n",
       "5  180.8   10.8       58.4   12.9"
      ]
     },
     "execution_count": 46,
     "metadata": {},
     "output_type": "execute_result"
    }
   ],
   "source": [
    "import pandas as pd\n",
    "df = pd.read_csv(\"Advertising.csv\", index_col = 0)\n",
    "df.head()"
   ]
  },
  {
   "cell_type": "code",
   "execution_count": 47,
   "metadata": {},
   "outputs": [],
   "source": [
    "X = df.drop('sales', axis=1)\n",
    "y = df[[\"sales\"]]"
   ]
  },
  {
   "cell_type": "markdown",
   "metadata": {},
   "source": [
    "# Model"
   ]
  },
  {
   "cell_type": "code",
   "execution_count": 48,
   "metadata": {},
   "outputs": [],
   "source": [
    "reg_model = LinearRegression()"
   ]
  },
  {
   "cell_type": "code",
   "execution_count": 49,
   "metadata": {},
   "outputs": [
    {
     "data": {
      "text/plain": [
       "LinearRegression(copy_X=True, fit_intercept=True, n_jobs=None, normalize=False)"
      ]
     },
     "execution_count": 49,
     "metadata": {},
     "output_type": "execute_result"
    }
   ],
   "source": [
    "reg_model.fit(X, y)"
   ]
  },
  {
   "cell_type": "code",
   "execution_count": 50,
   "metadata": {},
   "outputs": [
    {
     "data": {
      "text/plain": [
       "array([2.93888937])"
      ]
     },
     "execution_count": 50,
     "metadata": {},
     "output_type": "execute_result"
    }
   ],
   "source": [
    "reg_model.intercept_"
   ]
  },
  {
   "cell_type": "code",
   "execution_count": 51,
   "metadata": {},
   "outputs": [
    {
     "data": {
      "text/plain": [
       "array([[ 0.04576465,  0.18853002, -0.00103749]])"
      ]
     },
     "execution_count": 51,
     "metadata": {},
     "output_type": "execute_result"
    }
   ],
   "source": [
    "reg_model.coef_"
   ]
  },
  {
   "cell_type": "markdown",
   "metadata": {},
   "source": [
    "# Prediction"
   ]
  },
  {
   "cell_type": "markdown",
   "metadata": {},
   "source": [
    "Sales = 2.94 + TV * 0.04 + radio * 0.19 - newspaper * 0.001\n",
    "\n",
    "30 unit TV, 10 unit radio, 40 unit newpaper"
   ]
  },
  {
   "cell_type": "code",
   "execution_count": 60,
   "metadata": {},
   "outputs": [
    {
     "data": {
      "text/plain": [
       "6.3999999999999995"
      ]
     },
     "execution_count": 60,
     "metadata": {},
     "output_type": "execute_result"
    }
   ],
   "source": [
    "2.94 + 40 * 0.04 + 10 * 0.19 - 40 * 0.001"
   ]
  },
  {
   "cell_type": "code",
   "execution_count": 64,
   "metadata": {},
   "outputs": [],
   "source": [
    "yeni_veri = [[40],[10],[40]]\n",
    "import pandas as pd\n",
    "yeni_veri = pd.DataFrame(yeni_veri).T"
   ]
  },
  {
   "cell_type": "code",
   "execution_count": 65,
   "metadata": {},
   "outputs": [
    {
     "data": {
      "text/plain": [
       "array([[6.61327564]])"
      ]
     },
     "execution_count": 65,
     "metadata": {},
     "output_type": "execute_result"
    }
   ],
   "source": [
    "reg_model.predict(yeni_veri)"
   ]
  },
  {
   "cell_type": "code",
   "execution_count": 66,
   "metadata": {},
   "outputs": [],
   "source": [
    "from sklearn.metrics import mean_squared_error"
   ]
  },
  {
   "cell_type": "code",
   "execution_count": 67,
   "metadata": {},
   "outputs": [
    {
     "data": {
      "text/html": [
       "<div>\n",
       "<style scoped>\n",
       "    .dataframe tbody tr th:only-of-type {\n",
       "        vertical-align: middle;\n",
       "    }\n",
       "\n",
       "    .dataframe tbody tr th {\n",
       "        vertical-align: top;\n",
       "    }\n",
       "\n",
       "    .dataframe thead th {\n",
       "        text-align: right;\n",
       "    }\n",
       "</style>\n",
       "<table border=\"1\" class=\"dataframe\">\n",
       "  <thead>\n",
       "    <tr style=\"text-align: right;\">\n",
       "      <th></th>\n",
       "      <th>sales</th>\n",
       "    </tr>\n",
       "  </thead>\n",
       "  <tbody>\n",
       "    <tr>\n",
       "      <th>1</th>\n",
       "      <td>22.1</td>\n",
       "    </tr>\n",
       "    <tr>\n",
       "      <th>2</th>\n",
       "      <td>10.4</td>\n",
       "    </tr>\n",
       "    <tr>\n",
       "      <th>3</th>\n",
       "      <td>9.3</td>\n",
       "    </tr>\n",
       "    <tr>\n",
       "      <th>4</th>\n",
       "      <td>18.5</td>\n",
       "    </tr>\n",
       "    <tr>\n",
       "      <th>5</th>\n",
       "      <td>12.9</td>\n",
       "    </tr>\n",
       "  </tbody>\n",
       "</table>\n",
       "</div>"
      ],
      "text/plain": [
       "   sales\n",
       "1   22.1\n",
       "2   10.4\n",
       "3    9.3\n",
       "4   18.5\n",
       "5   12.9"
      ]
     },
     "execution_count": 67,
     "metadata": {},
     "output_type": "execute_result"
    }
   ],
   "source": [
    "y.head()"
   ]
  },
  {
   "cell_type": "markdown",
   "metadata": {},
   "source": [
    "# Predicted Success Review"
   ]
  },
  {
   "cell_type": "code",
   "execution_count": 68,
   "metadata": {},
   "outputs": [
    {
     "data": {
      "text/plain": [
       "LinearRegression(copy_X=True, fit_intercept=True, n_jobs=None, normalize=False)"
      ]
     },
     "execution_count": 68,
     "metadata": {},
     "output_type": "execute_result"
    }
   ],
   "source": [
    "reg_model"
   ]
  },
  {
   "cell_type": "code",
   "execution_count": 69,
   "metadata": {
    "collapsed": true,
    "jupyter": {
     "outputs_hidden": true
    }
   },
   "outputs": [
    {
     "data": {
      "text/plain": [
       "array([[20.52397441],\n",
       "       [12.33785482],\n",
       "       [12.30767078],\n",
       "       [17.59782951],\n",
       "       [13.18867186],\n",
       "       [12.47834763],\n",
       "       [11.72975995],\n",
       "       [12.12295317],\n",
       "       [ 3.72734086],\n",
       "       [12.55084872],\n",
       "       [ 7.0322992 ],\n",
       "       [17.28512918],\n",
       "       [10.57712073],\n",
       "       [ 8.82630048],\n",
       "       [18.43436638],\n",
       "       [20.81929952],\n",
       "       [12.82365674],\n",
       "       [23.22495716],\n",
       "       [ 9.95168206],\n",
       "       [14.16607293],\n",
       "       [18.10076728],\n",
       "       [14.7405382 ],\n",
       "       [ 6.4891503 ],\n",
       "       [16.5459329 ],\n",
       "       [ 8.14651887],\n",
       "       [15.6100386 ],\n",
       "       [14.98951429],\n",
       "       [17.05167344],\n",
       "       [19.41053803],\n",
       "       [ 9.14402389],\n",
       "       [21.6339338 ],\n",
       "       [11.3460929 ],\n",
       "       [ 7.63888314],\n",
       "       [18.86426829],\n",
       "       [ 7.57483051],\n",
       "       [17.00682618],\n",
       "       [23.40590052],\n",
       "       [15.62347779],\n",
       "       [ 9.90868103],\n",
       "       [20.44761039],\n",
       "       [16.37766467],\n",
       "       [17.2959832 ],\n",
       "       [21.59580326],\n",
       "       [13.96385684],\n",
       "       [ 8.88787996],\n",
       "       [15.16152314],\n",
       "       [ 8.87338673],\n",
       "       [21.7226299 ],\n",
       "       [16.26362018],\n",
       "       [ 8.1681656 ],\n",
       "       [12.63121132],\n",
       "       [ 9.33981296],\n",
       "       [20.66297563],\n",
       "       [19.94469957],\n",
       "       [20.37443008],\n",
       "       [21.2926106 ],\n",
       "       [ 8.52771254],\n",
       "       [12.77458802],\n",
       "       [21.89805198],\n",
       "       [18.13348698],\n",
       "       [ 5.74215558],\n",
       "       [22.89067208],\n",
       "       [16.78426073],\n",
       "       [13.21069202],\n",
       "       [16.97773556],\n",
       "       [ 7.84904532],\n",
       "       [ 9.01603163],\n",
       "       [12.0370073 ],\n",
       "       [18.97657924],\n",
       "       [21.10891244],\n",
       "       [17.77949782],\n",
       "       [10.62693815],\n",
       "       [10.36684881],\n",
       "       [ 9.90298206],\n",
       "       [17.32931197],\n",
       "       [11.85832174],\n",
       "       [ 4.47758904],\n",
       "       [13.81190223],\n",
       "       [ 8.81331353],\n",
       "       [ 9.67530328],\n",
       "       [11.44592364],\n",
       "       [14.64794093],\n",
       "       [10.17840799],\n",
       "       [14.42184212],\n",
       "       [20.78136464],\n",
       "       [15.18140789],\n",
       "       [11.59870739],\n",
       "       [15.59378475],\n",
       "       [11.71127101],\n",
       "       [16.92225511],\n",
       "       [ 9.99922965],\n",
       "       [ 4.49631598],\n",
       "       [19.15639616],\n",
       "       [21.22757378],\n",
       "       [10.48212385],\n",
       "       [16.31492112],\n",
       "       [12.63571716],\n",
       "       [15.33707782],\n",
       "       [24.11860723],\n",
       "       [16.94035021],\n",
       "       [13.87595844],\n",
       "       [23.24248685],\n",
       "       [17.64409385],\n",
       "       [14.76221142],\n",
       "       [20.30110878],\n",
       "       [17.93641467],\n",
       "       [ 6.12602215],\n",
       "       [ 7.10850249],\n",
       "       [ 3.58725841],\n",
       "       [19.69293106],\n",
       "       [14.7598741 ],\n",
       "       [21.14027498],\n",
       "       [13.88060985],\n",
       "       [16.40377623],\n",
       "       [15.30509593],\n",
       "       [12.91968895],\n",
       "       [11.97874744],\n",
       "       [ 6.5707774 ],\n",
       "       [15.56609348],\n",
       "       [ 6.82006767],\n",
       "       [14.41010605],\n",
       "       [ 7.83807642],\n",
       "       [13.6264571 ],\n",
       "       [15.0827909 ],\n",
       "       [19.45441306],\n",
       "       [ 9.12734958],\n",
       "       [10.57717411],\n",
       "       [ 6.599669  ],\n",
       "       [22.25549161],\n",
       "       [ 7.88410649],\n",
       "       [10.4276871 ],\n",
       "       [15.57779819],\n",
       "       [ 8.44915012],\n",
       "       [19.26692307],\n",
       "       [11.8368039 ],\n",
       "       [14.00141385],\n",
       "       [11.45348627],\n",
       "       [20.85125198],\n",
       "       [ 9.76842795],\n",
       "       [19.67547632],\n",
       "       [ 9.48964097],\n",
       "       [18.39902932],\n",
       "       [19.24986927],\n",
       "       [ 8.76480262],\n",
       "       [10.09133403],\n",
       "       [ 9.70853872],\n",
       "       [15.29422368],\n",
       "       [23.26086103],\n",
       "       [12.26335941],\n",
       "       [ 9.8272711 ],\n",
       "       [18.36720534],\n",
       "       [10.0095377 ],\n",
       "       [16.3600003 ],\n",
       "       [18.22390132],\n",
       "       [15.50161696],\n",
       "       [ 5.3075589 ],\n",
       "       [15.38485192],\n",
       "       [10.0143112 ],\n",
       "       [10.38419866],\n",
       "       [12.39914823],\n",
       "       [14.21383298],\n",
       "       [13.55914568],\n",
       "       [14.94678206],\n",
       "       [17.35163608],\n",
       "       [11.0682946 ],\n",
       "       [14.22372138],\n",
       "       [10.82439531],\n",
       "       [13.36324677],\n",
       "       [17.1861428 ],\n",
       "       [17.9415563 ],\n",
       "       [ 7.39497997],\n",
       "       [14.35827373],\n",
       "       [ 7.60769238],\n",
       "       [11.97093887],\n",
       "       [13.74435742],\n",
       "       [24.78687031],\n",
       "       [19.9793727 ],\n",
       "       [12.1620464 ],\n",
       "       [16.01099722],\n",
       "       [12.38455495],\n",
       "       [10.5871997 ],\n",
       "       [13.92809918],\n",
       "       [ 6.55467   ],\n",
       "       [24.13310013],\n",
       "       [18.53852096],\n",
       "       [20.80301059],\n",
       "       [ 9.69137313],\n",
       "       [17.07644223],\n",
       "       [18.64430648],\n",
       "       [ 6.05162411],\n",
       "       [12.4891591 ],\n",
       "       [ 8.42401933],\n",
       "       [ 4.46622956],\n",
       "       [18.48695797],\n",
       "       [16.49530044],\n",
       "       [ 5.37034248],\n",
       "       [ 8.16531236],\n",
       "       [12.78592082],\n",
       "       [23.76732149],\n",
       "       [15.17319554]])"
      ]
     },
     "execution_count": 69,
     "metadata": {},
     "output_type": "execute_result"
    }
   ],
   "source": [
    "reg_model.predict(X)"
   ]
  },
  {
   "cell_type": "code",
   "execution_count": 70,
   "metadata": {},
   "outputs": [],
   "source": [
    "y_pred = reg_model.predict(X)"
   ]
  },
  {
   "cell_type": "code",
   "execution_count": 71,
   "metadata": {},
   "outputs": [],
   "source": [
    "mse = mean_squared_error(y, y_pred)"
   ]
  },
  {
   "cell_type": "code",
   "execution_count": 72,
   "metadata": {},
   "outputs": [
    {
     "data": {
      "text/plain": [
       "2.784126314510936"
      ]
     },
     "execution_count": 72,
     "metadata": {},
     "output_type": "execute_result"
    }
   ],
   "source": [
    "mse"
   ]
  },
  {
   "cell_type": "code",
   "execution_count": 73,
   "metadata": {},
   "outputs": [
    {
     "data": {
      "text/plain": [
       "1.6685701407225697"
      ]
     },
     "execution_count": 73,
     "metadata": {},
     "output_type": "execute_result"
    }
   ],
   "source": [
    "import numpy as np\n",
    "rmse = np.sqrt(mse)\n",
    "rmse"
   ]
  },
  {
   "cell_type": "code",
   "execution_count": 74,
   "metadata": {},
   "outputs": [
    {
     "data": {
      "text/html": [
       "<div>\n",
       "<style scoped>\n",
       "    .dataframe tbody tr th:only-of-type {\n",
       "        vertical-align: middle;\n",
       "    }\n",
       "\n",
       "    .dataframe tbody tr th {\n",
       "        vertical-align: top;\n",
       "    }\n",
       "\n",
       "    .dataframe thead th {\n",
       "        text-align: right;\n",
       "    }\n",
       "</style>\n",
       "<table border=\"1\" class=\"dataframe\">\n",
       "  <thead>\n",
       "    <tr style=\"text-align: right;\">\n",
       "      <th></th>\n",
       "      <th>count</th>\n",
       "      <th>mean</th>\n",
       "      <th>std</th>\n",
       "      <th>min</th>\n",
       "      <th>25%</th>\n",
       "      <th>50%</th>\n",
       "      <th>75%</th>\n",
       "      <th>max</th>\n",
       "    </tr>\n",
       "  </thead>\n",
       "  <tbody>\n",
       "    <tr>\n",
       "      <th>TV</th>\n",
       "      <td>200.0</td>\n",
       "      <td>147.0425</td>\n",
       "      <td>85.854236</td>\n",
       "      <td>0.7</td>\n",
       "      <td>74.375</td>\n",
       "      <td>149.75</td>\n",
       "      <td>218.825</td>\n",
       "      <td>296.4</td>\n",
       "    </tr>\n",
       "    <tr>\n",
       "      <th>radio</th>\n",
       "      <td>200.0</td>\n",
       "      <td>23.2640</td>\n",
       "      <td>14.846809</td>\n",
       "      <td>0.0</td>\n",
       "      <td>9.975</td>\n",
       "      <td>22.90</td>\n",
       "      <td>36.525</td>\n",
       "      <td>49.6</td>\n",
       "    </tr>\n",
       "    <tr>\n",
       "      <th>newspaper</th>\n",
       "      <td>200.0</td>\n",
       "      <td>30.5540</td>\n",
       "      <td>21.778621</td>\n",
       "      <td>0.3</td>\n",
       "      <td>12.750</td>\n",
       "      <td>25.75</td>\n",
       "      <td>45.100</td>\n",
       "      <td>114.0</td>\n",
       "    </tr>\n",
       "    <tr>\n",
       "      <th>sales</th>\n",
       "      <td>200.0</td>\n",
       "      <td>14.0225</td>\n",
       "      <td>5.217457</td>\n",
       "      <td>1.6</td>\n",
       "      <td>10.375</td>\n",
       "      <td>12.90</td>\n",
       "      <td>17.400</td>\n",
       "      <td>27.0</td>\n",
       "    </tr>\n",
       "  </tbody>\n",
       "</table>\n",
       "</div>"
      ],
      "text/plain": [
       "           count      mean        std  min     25%     50%      75%    max\n",
       "TV         200.0  147.0425  85.854236  0.7  74.375  149.75  218.825  296.4\n",
       "radio      200.0   23.2640  14.846809  0.0   9.975   22.90   36.525   49.6\n",
       "newspaper  200.0   30.5540  21.778621  0.3  12.750   25.75   45.100  114.0\n",
       "sales      200.0   14.0225   5.217457  1.6  10.375   12.90   17.400   27.0"
      ]
     },
     "execution_count": 74,
     "metadata": {},
     "output_type": "execute_result"
    }
   ],
   "source": [
    "df.describe().T"
   ]
  },
  {
   "cell_type": "markdown",
   "metadata": {},
   "source": [
    "# Model Validation - Holdout Approach "
   ]
  },
  {
   "cell_type": "code",
   "execution_count": 75,
   "metadata": {},
   "outputs": [],
   "source": [
    "from sklearn.model_selection import train_test_split"
   ]
  },
  {
   "cell_type": "code",
   "execution_count": 76,
   "metadata": {},
   "outputs": [],
   "source": [
    "X_train, X_test, y_train, y_test = train_test_split(X, \n",
    "                                                    y, \n",
    "                                                    test_size = 0.20, random_state = 1)"
   ]
  },
  {
   "cell_type": "code",
   "execution_count": 77,
   "metadata": {},
   "outputs": [
    {
     "data": {
      "text/html": [
       "<div>\n",
       "<style scoped>\n",
       "    .dataframe tbody tr th:only-of-type {\n",
       "        vertical-align: middle;\n",
       "    }\n",
       "\n",
       "    .dataframe tbody tr th {\n",
       "        vertical-align: top;\n",
       "    }\n",
       "\n",
       "    .dataframe thead th {\n",
       "        text-align: right;\n",
       "    }\n",
       "</style>\n",
       "<table border=\"1\" class=\"dataframe\">\n",
       "  <thead>\n",
       "    <tr style=\"text-align: right;\">\n",
       "      <th></th>\n",
       "      <th>TV</th>\n",
       "      <th>radio</th>\n",
       "      <th>newspaper</th>\n",
       "    </tr>\n",
       "  </thead>\n",
       "  <tbody>\n",
       "    <tr>\n",
       "      <th>109</th>\n",
       "      <td>13.1</td>\n",
       "      <td>0.4</td>\n",
       "      <td>25.6</td>\n",
       "    </tr>\n",
       "    <tr>\n",
       "      <th>108</th>\n",
       "      <td>90.4</td>\n",
       "      <td>0.3</td>\n",
       "      <td>23.2</td>\n",
       "    </tr>\n",
       "    <tr>\n",
       "      <th>190</th>\n",
       "      <td>18.7</td>\n",
       "      <td>12.1</td>\n",
       "      <td>23.4</td>\n",
       "    </tr>\n",
       "    <tr>\n",
       "      <th>15</th>\n",
       "      <td>204.1</td>\n",
       "      <td>32.9</td>\n",
       "      <td>46.0</td>\n",
       "    </tr>\n",
       "    <tr>\n",
       "      <th>57</th>\n",
       "      <td>7.3</td>\n",
       "      <td>28.1</td>\n",
       "      <td>41.4</td>\n",
       "    </tr>\n",
       "  </tbody>\n",
       "</table>\n",
       "</div>"
      ],
      "text/plain": [
       "        TV  radio  newspaper\n",
       "109   13.1    0.4       25.6\n",
       "108   90.4    0.3       23.2\n",
       "190   18.7   12.1       23.4\n",
       "15   204.1   32.9       46.0\n",
       "57     7.3   28.1       41.4"
      ]
     },
     "execution_count": 77,
     "metadata": {},
     "output_type": "execute_result"
    }
   ],
   "source": [
    "X_train.head()"
   ]
  },
  {
   "cell_type": "code",
   "execution_count": 78,
   "metadata": {},
   "outputs": [
    {
     "data": {
      "text/html": [
       "<div>\n",
       "<style scoped>\n",
       "    .dataframe tbody tr th:only-of-type {\n",
       "        vertical-align: middle;\n",
       "    }\n",
       "\n",
       "    .dataframe tbody tr th {\n",
       "        vertical-align: top;\n",
       "    }\n",
       "\n",
       "    .dataframe thead th {\n",
       "        text-align: right;\n",
       "    }\n",
       "</style>\n",
       "<table border=\"1\" class=\"dataframe\">\n",
       "  <thead>\n",
       "    <tr style=\"text-align: right;\">\n",
       "      <th></th>\n",
       "      <th>sales</th>\n",
       "    </tr>\n",
       "  </thead>\n",
       "  <tbody>\n",
       "    <tr>\n",
       "      <th>109</th>\n",
       "      <td>5.3</td>\n",
       "    </tr>\n",
       "    <tr>\n",
       "      <th>108</th>\n",
       "      <td>8.7</td>\n",
       "    </tr>\n",
       "    <tr>\n",
       "      <th>190</th>\n",
       "      <td>6.7</td>\n",
       "    </tr>\n",
       "    <tr>\n",
       "      <th>15</th>\n",
       "      <td>19.0</td>\n",
       "    </tr>\n",
       "    <tr>\n",
       "      <th>57</th>\n",
       "      <td>5.5</td>\n",
       "    </tr>\n",
       "  </tbody>\n",
       "</table>\n",
       "</div>"
      ],
      "text/plain": [
       "     sales\n",
       "109    5.3\n",
       "108    8.7\n",
       "190    6.7\n",
       "15    19.0\n",
       "57     5.5"
      ]
     },
     "execution_count": 78,
     "metadata": {},
     "output_type": "execute_result"
    }
   ],
   "source": [
    "y_train.head()"
   ]
  },
  {
   "cell_type": "code",
   "execution_count": 79,
   "metadata": {},
   "outputs": [
    {
     "data": {
      "text/html": [
       "<div>\n",
       "<style scoped>\n",
       "    .dataframe tbody tr th:only-of-type {\n",
       "        vertical-align: middle;\n",
       "    }\n",
       "\n",
       "    .dataframe tbody tr th {\n",
       "        vertical-align: top;\n",
       "    }\n",
       "\n",
       "    .dataframe thead th {\n",
       "        text-align: right;\n",
       "    }\n",
       "</style>\n",
       "<table border=\"1\" class=\"dataframe\">\n",
       "  <thead>\n",
       "    <tr style=\"text-align: right;\">\n",
       "      <th></th>\n",
       "      <th>TV</th>\n",
       "      <th>radio</th>\n",
       "      <th>newspaper</th>\n",
       "    </tr>\n",
       "  </thead>\n",
       "  <tbody>\n",
       "    <tr>\n",
       "      <th>59</th>\n",
       "      <td>210.8</td>\n",
       "      <td>49.6</td>\n",
       "      <td>37.7</td>\n",
       "    </tr>\n",
       "    <tr>\n",
       "      <th>41</th>\n",
       "      <td>202.5</td>\n",
       "      <td>22.3</td>\n",
       "      <td>31.6</td>\n",
       "    </tr>\n",
       "    <tr>\n",
       "      <th>35</th>\n",
       "      <td>95.7</td>\n",
       "      <td>1.4</td>\n",
       "      <td>7.4</td>\n",
       "    </tr>\n",
       "    <tr>\n",
       "      <th>103</th>\n",
       "      <td>280.2</td>\n",
       "      <td>10.1</td>\n",
       "      <td>21.4</td>\n",
       "    </tr>\n",
       "    <tr>\n",
       "      <th>185</th>\n",
       "      <td>253.8</td>\n",
       "      <td>21.3</td>\n",
       "      <td>30.0</td>\n",
       "    </tr>\n",
       "  </tbody>\n",
       "</table>\n",
       "</div>"
      ],
      "text/plain": [
       "        TV  radio  newspaper\n",
       "59   210.8   49.6       37.7\n",
       "41   202.5   22.3       31.6\n",
       "35    95.7    1.4        7.4\n",
       "103  280.2   10.1       21.4\n",
       "185  253.8   21.3       30.0"
      ]
     },
     "execution_count": 79,
     "metadata": {},
     "output_type": "execute_result"
    }
   ],
   "source": [
    "X_test.head()"
   ]
  },
  {
   "cell_type": "code",
   "execution_count": 80,
   "metadata": {},
   "outputs": [
    {
     "data": {
      "text/html": [
       "<div>\n",
       "<style scoped>\n",
       "    .dataframe tbody tr th:only-of-type {\n",
       "        vertical-align: middle;\n",
       "    }\n",
       "\n",
       "    .dataframe tbody tr th {\n",
       "        vertical-align: top;\n",
       "    }\n",
       "\n",
       "    .dataframe thead th {\n",
       "        text-align: right;\n",
       "    }\n",
       "</style>\n",
       "<table border=\"1\" class=\"dataframe\">\n",
       "  <thead>\n",
       "    <tr style=\"text-align: right;\">\n",
       "      <th></th>\n",
       "      <th>sales</th>\n",
       "    </tr>\n",
       "  </thead>\n",
       "  <tbody>\n",
       "    <tr>\n",
       "      <th>59</th>\n",
       "      <td>23.8</td>\n",
       "    </tr>\n",
       "    <tr>\n",
       "      <th>41</th>\n",
       "      <td>16.6</td>\n",
       "    </tr>\n",
       "    <tr>\n",
       "      <th>35</th>\n",
       "      <td>9.5</td>\n",
       "    </tr>\n",
       "    <tr>\n",
       "      <th>103</th>\n",
       "      <td>14.8</td>\n",
       "    </tr>\n",
       "    <tr>\n",
       "      <th>185</th>\n",
       "      <td>17.6</td>\n",
       "    </tr>\n",
       "  </tbody>\n",
       "</table>\n",
       "</div>"
      ],
      "text/plain": [
       "     sales\n",
       "59    23.8\n",
       "41    16.6\n",
       "35     9.5\n",
       "103   14.8\n",
       "185   17.6"
      ]
     },
     "execution_count": 80,
     "metadata": {},
     "output_type": "execute_result"
    }
   ],
   "source": [
    "y_test.head()"
   ]
  },
  {
   "cell_type": "code",
   "execution_count": 81,
   "metadata": {},
   "outputs": [
    {
     "data": {
      "text/plain": [
       "(160, 3)"
      ]
     },
     "execution_count": 81,
     "metadata": {},
     "output_type": "execute_result"
    }
   ],
   "source": [
    "X_train.shape"
   ]
  },
  {
   "cell_type": "code",
   "execution_count": 82,
   "metadata": {},
   "outputs": [
    {
     "data": {
      "text/plain": [
       "(40, 3)"
      ]
     },
     "execution_count": 82,
     "metadata": {},
     "output_type": "execute_result"
    }
   ],
   "source": [
    "X_test.shape"
   ]
  },
  {
   "cell_type": "code",
   "execution_count": 83,
   "metadata": {},
   "outputs": [
    {
     "data": {
      "text/plain": [
       "LinearRegression(copy_X=True, fit_intercept=True, n_jobs=None, normalize=False)"
      ]
     },
     "execution_count": 83,
     "metadata": {},
     "output_type": "execute_result"
    }
   ],
   "source": [
    "reg_model = LinearRegression()\n",
    "reg_model.fit(X_train, y_train)"
   ]
  },
  {
   "cell_type": "code",
   "execution_count": 84,
   "metadata": {},
   "outputs": [],
   "source": [
    "y_pred = reg_model.predict(X_train)"
   ]
  },
  {
   "cell_type": "code",
   "execution_count": 85,
   "metadata": {},
   "outputs": [
    {
     "data": {
      "text/plain": [
       "1.736902590147092"
      ]
     },
     "execution_count": 85,
     "metadata": {},
     "output_type": "execute_result"
    }
   ],
   "source": [
    "#egitim hatasi\n",
    "np.sqrt(mean_squared_error(y_train, y_pred))"
   ]
  },
  {
   "cell_type": "code",
   "execution_count": 86,
   "metadata": {},
   "outputs": [],
   "source": [
    "y_pred = reg_model.predict(X_test)"
   ]
  },
  {
   "cell_type": "code",
   "execution_count": 87,
   "metadata": {},
   "outputs": [
    {
     "data": {
      "text/plain": [
       "1.4113417558581582"
      ]
     },
     "execution_count": 87,
     "metadata": {},
     "output_type": "execute_result"
    }
   ],
   "source": [
    "#test error\n",
    "np.sqrt(mean_squared_error(y_test, y_pred))"
   ]
  },
  {
   "cell_type": "markdown",
   "metadata": {},
   "source": [
    "# Model Validation - K-Fold CV "
   ]
  },
  {
   "cell_type": "code",
   "execution_count": 89,
   "metadata": {},
   "outputs": [],
   "source": [
    "from sklearn.model_selection import cross_val_score"
   ]
  },
  {
   "cell_type": "code",
   "execution_count": 90,
   "metadata": {},
   "outputs": [],
   "source": [
    "reg_model = LinearRegression()"
   ]
  },
  {
   "cell_type": "code",
   "execution_count": 92,
   "metadata": {},
   "outputs": [
    {
     "data": {
      "text/plain": [
       "array([3.56038438, 3.29767522, 2.08943356, 2.82474283, 1.3027754 ,\n",
       "       1.74163618, 8.17338214, 2.11409746, 3.04273109, 2.45281793])"
      ]
     },
     "execution_count": 92,
     "metadata": {},
     "output_type": "execute_result"
    }
   ],
   "source": [
    "#1.way\n",
    "-cross_val_score(reg_model, X, y, cv = 10, scoring = \"neg_mean_squared_error\")"
   ]
  },
  {
   "cell_type": "code",
   "execution_count": 93,
   "metadata": {},
   "outputs": [
    {
     "data": {
      "text/plain": [
       "3.0599676181185127"
      ]
     },
     "execution_count": 93,
     "metadata": {},
     "output_type": "execute_result"
    }
   ],
   "source": [
    "#mse\n",
    "np.mean(-cross_val_score(reg_model, X, y, cv = 10, scoring = \"neg_mean_squared_error\"))"
   ]
  },
  {
   "cell_type": "code",
   "execution_count": 94,
   "metadata": {},
   "outputs": [
    {
     "data": {
      "text/plain": [
       "1.8314070401702742"
      ]
     },
     "execution_count": 94,
     "metadata": {},
     "output_type": "execute_result"
    }
   ],
   "source": [
    "np.std(-cross_val_score(reg_model, X, y, cv = 10, scoring = \"neg_mean_squared_error\"))"
   ]
  },
  {
   "cell_type": "code",
   "execution_count": 95,
   "metadata": {},
   "outputs": [
    {
     "data": {
      "text/plain": [
       "1.7492763126843376"
      ]
     },
     "execution_count": 95,
     "metadata": {},
     "output_type": "execute_result"
    }
   ],
   "source": [
    "#rmse\n",
    "np.sqrt(np.mean(-cross_val_score(reg_model, X, y, cv = 10, scoring = \"neg_mean_squared_error\")))"
   ]
  },
  {
   "cell_type": "code",
   "execution_count": 96,
   "metadata": {},
   "outputs": [],
   "source": [
    "#2.way\n",
    "X_train, X_test, y_train, y_test = train_test_split(X, \n",
    "                                                    y, \n",
    "                                                    test_size = 0.20, random_state = 1)"
   ]
  },
  {
   "cell_type": "code",
   "execution_count": 102,
   "metadata": {},
   "outputs": [
    {
     "data": {
      "text/plain": [
       "LinearRegression(copy_X=True, fit_intercept=True, n_jobs=None, normalize=False)"
      ]
     },
     "execution_count": 102,
     "metadata": {},
     "output_type": "execute_result"
    }
   ],
   "source": [
    "reg_model = LinearRegression()\n",
    "reg_model.fit(X_train, y_train)"
   ]
  },
  {
   "cell_type": "code",
   "execution_count": 103,
   "metadata": {},
   "outputs": [
    {
     "data": {
      "text/plain": [
       "1.7854163438661466"
      ]
     },
     "execution_count": 103,
     "metadata": {},
     "output_type": "execute_result"
    }
   ],
   "source": [
    "np.sqrt(np.mean(-cross_val_score(reg_model, X_train, y_train, cv = 10, scoring = \"neg_mean_squared_error\")))"
   ]
  },
  {
   "cell_type": "code",
   "execution_count": 104,
   "metadata": {},
   "outputs": [],
   "source": [
    "#test\n",
    "y_pred = reg_model.predict(X_test)"
   ]
  },
  {
   "cell_type": "code",
   "execution_count": 105,
   "metadata": {},
   "outputs": [
    {
     "data": {
      "text/plain": [
       "1.4113417558581582"
      ]
     },
     "execution_count": 105,
     "metadata": {},
     "output_type": "execute_result"
    }
   ],
   "source": [
    "#test error\n",
    "np.sqrt(mean_squared_error(y_test, y_pred))"
   ]
  },
  {
   "cell_type": "markdown",
   "metadata": {},
   "source": [
    "# PROJET 3 (Developing Salary prediction Model)"
   ]
  },
  {
   "cell_type": "markdown",
   "metadata": {},
   "source": [
    "# Ridge Regression"
   ]
  },
  {
   "cell_type": "code",
   "execution_count": 107,
   "metadata": {},
   "outputs": [],
   "source": [
    "import numpy as np\n",
    "import pandas as pd\n",
    "from sklearn.linear_model import Ridge\n",
    "from sklearn.metrics import mean_squared_error,r2_score\n",
    "from sklearn.model_selection import train_test_split, cross_val_score\n",
    "from sklearn import model_selection\n",
    "import matplotlib.pyplot as plt\n",
    "from sklearn.linear_model import RidgeCV"
   ]
  },
  {
   "cell_type": "code",
   "execution_count": 3,
   "metadata": {},
   "outputs": [],
   "source": [
    "df = pd.read_csv(\"Hitters.csv\")"
   ]
  },
  {
   "cell_type": "code",
   "execution_count": 109,
   "metadata": {},
   "outputs": [
    {
     "data": {
      "text/html": [
       "<div>\n",
       "<style scoped>\n",
       "    .dataframe tbody tr th:only-of-type {\n",
       "        vertical-align: middle;\n",
       "    }\n",
       "\n",
       "    .dataframe tbody tr th {\n",
       "        vertical-align: top;\n",
       "    }\n",
       "\n",
       "    .dataframe thead th {\n",
       "        text-align: right;\n",
       "    }\n",
       "</style>\n",
       "<table border=\"1\" class=\"dataframe\">\n",
       "  <thead>\n",
       "    <tr style=\"text-align: right;\">\n",
       "      <th></th>\n",
       "      <th>AtBat</th>\n",
       "      <th>Hits</th>\n",
       "      <th>HmRun</th>\n",
       "      <th>Runs</th>\n",
       "      <th>RBI</th>\n",
       "      <th>Walks</th>\n",
       "      <th>Years</th>\n",
       "      <th>CAtBat</th>\n",
       "      <th>CHits</th>\n",
       "      <th>CHmRun</th>\n",
       "      <th>CRuns</th>\n",
       "      <th>CRBI</th>\n",
       "      <th>CWalks</th>\n",
       "      <th>League</th>\n",
       "      <th>Division</th>\n",
       "      <th>PutOuts</th>\n",
       "      <th>Assists</th>\n",
       "      <th>Errors</th>\n",
       "      <th>Salary</th>\n",
       "      <th>NewLeague</th>\n",
       "    </tr>\n",
       "  </thead>\n",
       "  <tbody>\n",
       "    <tr>\n",
       "      <th>0</th>\n",
       "      <td>293</td>\n",
       "      <td>66</td>\n",
       "      <td>1</td>\n",
       "      <td>30</td>\n",
       "      <td>29</td>\n",
       "      <td>14</td>\n",
       "      <td>1</td>\n",
       "      <td>293</td>\n",
       "      <td>66</td>\n",
       "      <td>1</td>\n",
       "      <td>30</td>\n",
       "      <td>29</td>\n",
       "      <td>14</td>\n",
       "      <td>A</td>\n",
       "      <td>E</td>\n",
       "      <td>446</td>\n",
       "      <td>33</td>\n",
       "      <td>20</td>\n",
       "      <td>NaN</td>\n",
       "      <td>A</td>\n",
       "    </tr>\n",
       "    <tr>\n",
       "      <th>1</th>\n",
       "      <td>315</td>\n",
       "      <td>81</td>\n",
       "      <td>7</td>\n",
       "      <td>24</td>\n",
       "      <td>38</td>\n",
       "      <td>39</td>\n",
       "      <td>14</td>\n",
       "      <td>3449</td>\n",
       "      <td>835</td>\n",
       "      <td>69</td>\n",
       "      <td>321</td>\n",
       "      <td>414</td>\n",
       "      <td>375</td>\n",
       "      <td>N</td>\n",
       "      <td>W</td>\n",
       "      <td>632</td>\n",
       "      <td>43</td>\n",
       "      <td>10</td>\n",
       "      <td>475.0</td>\n",
       "      <td>N</td>\n",
       "    </tr>\n",
       "    <tr>\n",
       "      <th>2</th>\n",
       "      <td>479</td>\n",
       "      <td>130</td>\n",
       "      <td>18</td>\n",
       "      <td>66</td>\n",
       "      <td>72</td>\n",
       "      <td>76</td>\n",
       "      <td>3</td>\n",
       "      <td>1624</td>\n",
       "      <td>457</td>\n",
       "      <td>63</td>\n",
       "      <td>224</td>\n",
       "      <td>266</td>\n",
       "      <td>263</td>\n",
       "      <td>A</td>\n",
       "      <td>W</td>\n",
       "      <td>880</td>\n",
       "      <td>82</td>\n",
       "      <td>14</td>\n",
       "      <td>480.0</td>\n",
       "      <td>A</td>\n",
       "    </tr>\n",
       "    <tr>\n",
       "      <th>3</th>\n",
       "      <td>496</td>\n",
       "      <td>141</td>\n",
       "      <td>20</td>\n",
       "      <td>65</td>\n",
       "      <td>78</td>\n",
       "      <td>37</td>\n",
       "      <td>11</td>\n",
       "      <td>5628</td>\n",
       "      <td>1575</td>\n",
       "      <td>225</td>\n",
       "      <td>828</td>\n",
       "      <td>838</td>\n",
       "      <td>354</td>\n",
       "      <td>N</td>\n",
       "      <td>E</td>\n",
       "      <td>200</td>\n",
       "      <td>11</td>\n",
       "      <td>3</td>\n",
       "      <td>500.0</td>\n",
       "      <td>N</td>\n",
       "    </tr>\n",
       "    <tr>\n",
       "      <th>4</th>\n",
       "      <td>321</td>\n",
       "      <td>87</td>\n",
       "      <td>10</td>\n",
       "      <td>39</td>\n",
       "      <td>42</td>\n",
       "      <td>30</td>\n",
       "      <td>2</td>\n",
       "      <td>396</td>\n",
       "      <td>101</td>\n",
       "      <td>12</td>\n",
       "      <td>48</td>\n",
       "      <td>46</td>\n",
       "      <td>33</td>\n",
       "      <td>N</td>\n",
       "      <td>E</td>\n",
       "      <td>805</td>\n",
       "      <td>40</td>\n",
       "      <td>4</td>\n",
       "      <td>91.5</td>\n",
       "      <td>N</td>\n",
       "    </tr>\n",
       "  </tbody>\n",
       "</table>\n",
       "</div>"
      ],
      "text/plain": [
       "   AtBat  Hits  HmRun  Runs  RBI  Walks  Years  CAtBat  CHits  CHmRun  CRuns  \\\n",
       "0    293    66      1    30   29     14      1     293     66       1     30   \n",
       "1    315    81      7    24   38     39     14    3449    835      69    321   \n",
       "2    479   130     18    66   72     76      3    1624    457      63    224   \n",
       "3    496   141     20    65   78     37     11    5628   1575     225    828   \n",
       "4    321    87     10    39   42     30      2     396    101      12     48   \n",
       "\n",
       "   CRBI  CWalks League Division  PutOuts  Assists  Errors  Salary NewLeague  \n",
       "0    29      14      A        E      446       33      20     NaN         A  \n",
       "1   414     375      N        W      632       43      10   475.0         N  \n",
       "2   266     263      A        W      880       82      14   480.0         A  \n",
       "3   838     354      N        E      200       11       3   500.0         N  \n",
       "4    46      33      N        E      805       40       4    91.5         N  "
      ]
     },
     "execution_count": 109,
     "metadata": {},
     "output_type": "execute_result"
    }
   ],
   "source": [
    "df.head()"
   ]
  },
  {
   "cell_type": "code",
   "execution_count": 114,
   "metadata": {},
   "outputs": [
    {
     "data": {
      "text/plain": [
       "(322, 20)"
      ]
     },
     "execution_count": 114,
     "metadata": {},
     "output_type": "execute_result"
    }
   ],
   "source": [
    "df.shape"
   ]
  },
  {
   "cell_type": "code",
   "execution_count": 116,
   "metadata": {},
   "outputs": [],
   "source": [
    "df = df.dropna()"
   ]
  },
  {
   "cell_type": "code",
   "execution_count": 129,
   "metadata": {},
   "outputs": [],
   "source": [
    "df = pd.get_dummies(df, columns = ['League', 'Division', 'NewLeague'], drop_first = True)"
   ]
  },
  {
   "cell_type": "code",
   "execution_count": 130,
   "metadata": {},
   "outputs": [
    {
     "data": {
      "text/html": [
       "<div>\n",
       "<style scoped>\n",
       "    .dataframe tbody tr th:only-of-type {\n",
       "        vertical-align: middle;\n",
       "    }\n",
       "\n",
       "    .dataframe tbody tr th {\n",
       "        vertical-align: top;\n",
       "    }\n",
       "\n",
       "    .dataframe thead th {\n",
       "        text-align: right;\n",
       "    }\n",
       "</style>\n",
       "<table border=\"1\" class=\"dataframe\">\n",
       "  <thead>\n",
       "    <tr style=\"text-align: right;\">\n",
       "      <th></th>\n",
       "      <th>AtBat</th>\n",
       "      <th>Hits</th>\n",
       "      <th>HmRun</th>\n",
       "      <th>Runs</th>\n",
       "      <th>RBI</th>\n",
       "      <th>Walks</th>\n",
       "      <th>Years</th>\n",
       "      <th>CAtBat</th>\n",
       "      <th>CHits</th>\n",
       "      <th>CHmRun</th>\n",
       "      <th>CRuns</th>\n",
       "      <th>CRBI</th>\n",
       "      <th>CWalks</th>\n",
       "      <th>PutOuts</th>\n",
       "      <th>Assists</th>\n",
       "      <th>Errors</th>\n",
       "      <th>Salary</th>\n",
       "      <th>League_N</th>\n",
       "      <th>Division_W</th>\n",
       "      <th>NewLeague_N</th>\n",
       "    </tr>\n",
       "  </thead>\n",
       "  <tbody>\n",
       "    <tr>\n",
       "      <th>1</th>\n",
       "      <td>315</td>\n",
       "      <td>81</td>\n",
       "      <td>7</td>\n",
       "      <td>24</td>\n",
       "      <td>38</td>\n",
       "      <td>39</td>\n",
       "      <td>14</td>\n",
       "      <td>3449</td>\n",
       "      <td>835</td>\n",
       "      <td>69</td>\n",
       "      <td>321</td>\n",
       "      <td>414</td>\n",
       "      <td>375</td>\n",
       "      <td>632</td>\n",
       "      <td>43</td>\n",
       "      <td>10</td>\n",
       "      <td>475.0</td>\n",
       "      <td>1</td>\n",
       "      <td>1</td>\n",
       "      <td>1</td>\n",
       "    </tr>\n",
       "    <tr>\n",
       "      <th>2</th>\n",
       "      <td>479</td>\n",
       "      <td>130</td>\n",
       "      <td>18</td>\n",
       "      <td>66</td>\n",
       "      <td>72</td>\n",
       "      <td>76</td>\n",
       "      <td>3</td>\n",
       "      <td>1624</td>\n",
       "      <td>457</td>\n",
       "      <td>63</td>\n",
       "      <td>224</td>\n",
       "      <td>266</td>\n",
       "      <td>263</td>\n",
       "      <td>880</td>\n",
       "      <td>82</td>\n",
       "      <td>14</td>\n",
       "      <td>480.0</td>\n",
       "      <td>0</td>\n",
       "      <td>1</td>\n",
       "      <td>0</td>\n",
       "    </tr>\n",
       "    <tr>\n",
       "      <th>3</th>\n",
       "      <td>496</td>\n",
       "      <td>141</td>\n",
       "      <td>20</td>\n",
       "      <td>65</td>\n",
       "      <td>78</td>\n",
       "      <td>37</td>\n",
       "      <td>11</td>\n",
       "      <td>5628</td>\n",
       "      <td>1575</td>\n",
       "      <td>225</td>\n",
       "      <td>828</td>\n",
       "      <td>838</td>\n",
       "      <td>354</td>\n",
       "      <td>200</td>\n",
       "      <td>11</td>\n",
       "      <td>3</td>\n",
       "      <td>500.0</td>\n",
       "      <td>1</td>\n",
       "      <td>0</td>\n",
       "      <td>1</td>\n",
       "    </tr>\n",
       "    <tr>\n",
       "      <th>4</th>\n",
       "      <td>321</td>\n",
       "      <td>87</td>\n",
       "      <td>10</td>\n",
       "      <td>39</td>\n",
       "      <td>42</td>\n",
       "      <td>30</td>\n",
       "      <td>2</td>\n",
       "      <td>396</td>\n",
       "      <td>101</td>\n",
       "      <td>12</td>\n",
       "      <td>48</td>\n",
       "      <td>46</td>\n",
       "      <td>33</td>\n",
       "      <td>805</td>\n",
       "      <td>40</td>\n",
       "      <td>4</td>\n",
       "      <td>91.5</td>\n",
       "      <td>1</td>\n",
       "      <td>0</td>\n",
       "      <td>1</td>\n",
       "    </tr>\n",
       "    <tr>\n",
       "      <th>5</th>\n",
       "      <td>594</td>\n",
       "      <td>169</td>\n",
       "      <td>4</td>\n",
       "      <td>74</td>\n",
       "      <td>51</td>\n",
       "      <td>35</td>\n",
       "      <td>11</td>\n",
       "      <td>4408</td>\n",
       "      <td>1133</td>\n",
       "      <td>19</td>\n",
       "      <td>501</td>\n",
       "      <td>336</td>\n",
       "      <td>194</td>\n",
       "      <td>282</td>\n",
       "      <td>421</td>\n",
       "      <td>25</td>\n",
       "      <td>750.0</td>\n",
       "      <td>0</td>\n",
       "      <td>1</td>\n",
       "      <td>0</td>\n",
       "    </tr>\n",
       "  </tbody>\n",
       "</table>\n",
       "</div>"
      ],
      "text/plain": [
       "   AtBat  Hits  HmRun  Runs  RBI  Walks  Years  CAtBat  CHits  CHmRun  CRuns  \\\n",
       "1    315    81      7    24   38     39     14    3449    835      69    321   \n",
       "2    479   130     18    66   72     76      3    1624    457      63    224   \n",
       "3    496   141     20    65   78     37     11    5628   1575     225    828   \n",
       "4    321    87     10    39   42     30      2     396    101      12     48   \n",
       "5    594   169      4    74   51     35     11    4408   1133      19    501   \n",
       "\n",
       "   CRBI  CWalks  PutOuts  Assists  Errors  Salary  League_N  Division_W  \\\n",
       "1   414     375      632       43      10   475.0         1           1   \n",
       "2   266     263      880       82      14   480.0         0           1   \n",
       "3   838     354      200       11       3   500.0         1           0   \n",
       "4    46      33      805       40       4    91.5         1           0   \n",
       "5   336     194      282      421      25   750.0         0           1   \n",
       "\n",
       "   NewLeague_N  \n",
       "1            1  \n",
       "2            0  \n",
       "3            1  \n",
       "4            1  \n",
       "5            0  "
      ]
     },
     "execution_count": 130,
     "metadata": {},
     "output_type": "execute_result"
    }
   ],
   "source": [
    "df.head()"
   ]
  },
  {
   "cell_type": "code",
   "execution_count": 199,
   "metadata": {},
   "outputs": [],
   "source": [
    "y = df[\"Salary\"]\n",
    "X = df.drop('Salary', axis=1)"
   ]
  },
  {
   "cell_type": "code",
   "execution_count": 200,
   "metadata": {},
   "outputs": [],
   "source": [
    "cols = X.columns"
   ]
  },
  {
   "cell_type": "code",
   "execution_count": 201,
   "metadata": {},
   "outputs": [],
   "source": [
    "from sklearn.preprocessing import StandardScaler"
   ]
  },
  {
   "cell_type": "code",
   "execution_count": 202,
   "metadata": {},
   "outputs": [],
   "source": [
    "scaler = StandardScaler()"
   ]
  },
  {
   "cell_type": "code",
   "execution_count": 203,
   "metadata": {},
   "outputs": [],
   "source": [
    "X = scaler.fit_transform(X)"
   ]
  },
  {
   "cell_type": "code",
   "execution_count": 204,
   "metadata": {},
   "outputs": [],
   "source": [
    "X = pd.DataFrame(X, columns = cols)"
   ]
  },
  {
   "cell_type": "code",
   "execution_count": 205,
   "metadata": {},
   "outputs": [
    {
     "data": {
      "text/html": [
       "<div>\n",
       "<style scoped>\n",
       "    .dataframe tbody tr th:only-of-type {\n",
       "        vertical-align: middle;\n",
       "    }\n",
       "\n",
       "    .dataframe tbody tr th {\n",
       "        vertical-align: top;\n",
       "    }\n",
       "\n",
       "    .dataframe thead th {\n",
       "        text-align: right;\n",
       "    }\n",
       "</style>\n",
       "<table border=\"1\" class=\"dataframe\">\n",
       "  <thead>\n",
       "    <tr style=\"text-align: right;\">\n",
       "      <th></th>\n",
       "      <th>AtBat</th>\n",
       "      <th>Hits</th>\n",
       "      <th>HmRun</th>\n",
       "      <th>Runs</th>\n",
       "      <th>RBI</th>\n",
       "      <th>Walks</th>\n",
       "      <th>Years</th>\n",
       "      <th>CAtBat</th>\n",
       "      <th>CHits</th>\n",
       "      <th>CHmRun</th>\n",
       "      <th>CRuns</th>\n",
       "      <th>CRBI</th>\n",
       "      <th>CWalks</th>\n",
       "      <th>PutOuts</th>\n",
       "      <th>Assists</th>\n",
       "      <th>Errors</th>\n",
       "      <th>League_N</th>\n",
       "      <th>Division_W</th>\n",
       "      <th>NewLeague_N</th>\n",
       "    </tr>\n",
       "  </thead>\n",
       "  <tbody>\n",
       "    <tr>\n",
       "      <th>0</th>\n",
       "      <td>-0.602900</td>\n",
       "      <td>-0.595675</td>\n",
       "      <td>-0.528551</td>\n",
       "      <td>-1.206112</td>\n",
       "      <td>-0.522063</td>\n",
       "      <td>-0.097527</td>\n",
       "      <td>1.397893</td>\n",
       "      <td>0.346791</td>\n",
       "      <td>0.174373</td>\n",
       "      <td>-0.002920</td>\n",
       "      <td>-0.121671</td>\n",
       "      <td>0.258966</td>\n",
       "      <td>0.435334</td>\n",
       "      <td>1.221499</td>\n",
       "      <td>-0.523191</td>\n",
       "      <td>0.213352</td>\n",
       "      <td>1.058758</td>\n",
       "      <td>0.981166</td>\n",
       "      <td>1.075052</td>\n",
       "    </tr>\n",
       "    <tr>\n",
       "      <th>1</th>\n",
       "      <td>0.512542</td>\n",
       "      <td>0.492260</td>\n",
       "      <td>0.729966</td>\n",
       "      <td>0.441515</td>\n",
       "      <td>0.794060</td>\n",
       "      <td>1.609373</td>\n",
       "      <td>-0.901200</td>\n",
       "      <td>-0.452865</td>\n",
       "      <td>-0.409892</td>\n",
       "      <td>-0.076054</td>\n",
       "      <td>-0.415105</td>\n",
       "      <td>-0.199590</td>\n",
       "      <td>0.010373</td>\n",
       "      <td>2.109109</td>\n",
       "      <td>-0.253863</td>\n",
       "      <td>0.819964</td>\n",
       "      <td>-0.944503</td>\n",
       "      <td>0.981166</td>\n",
       "      <td>-0.930187</td>\n",
       "    </tr>\n",
       "    <tr>\n",
       "      <th>2</th>\n",
       "      <td>0.628167</td>\n",
       "      <td>0.736490</td>\n",
       "      <td>0.958788</td>\n",
       "      <td>0.402286</td>\n",
       "      <td>1.026317</td>\n",
       "      <td>-0.189792</td>\n",
       "      <td>0.770868</td>\n",
       "      <td>1.301558</td>\n",
       "      <td>1.318174</td>\n",
       "      <td>1.898565</td>\n",
       "      <td>1.412051</td>\n",
       "      <td>1.572666</td>\n",
       "      <td>0.355654</td>\n",
       "      <td>-0.324661</td>\n",
       "      <td>-0.744179</td>\n",
       "      <td>-0.848219</td>\n",
       "      <td>1.058758</td>\n",
       "      <td>-1.019196</td>\n",
       "      <td>1.075052</td>\n",
       "    </tr>\n",
       "    <tr>\n",
       "      <th>3</th>\n",
       "      <td>-0.562092</td>\n",
       "      <td>-0.462459</td>\n",
       "      <td>-0.185319</td>\n",
       "      <td>-0.617673</td>\n",
       "      <td>-0.367225</td>\n",
       "      <td>-0.512719</td>\n",
       "      <td>-1.110209</td>\n",
       "      <td>-0.990935</td>\n",
       "      <td>-0.960153</td>\n",
       "      <td>-0.697693</td>\n",
       "      <td>-0.947521</td>\n",
       "      <td>-0.881228</td>\n",
       "      <td>-0.862315</td>\n",
       "      <td>1.840678</td>\n",
       "      <td>-0.543909</td>\n",
       "      <td>-0.696566</td>\n",
       "      <td>1.058758</td>\n",
       "      <td>-1.019196</td>\n",
       "      <td>1.075052</td>\n",
       "    </tr>\n",
       "    <tr>\n",
       "      <th>4</th>\n",
       "      <td>1.294712</td>\n",
       "      <td>1.358167</td>\n",
       "      <td>-0.871783</td>\n",
       "      <td>0.755349</td>\n",
       "      <td>-0.018840</td>\n",
       "      <td>-0.282057</td>\n",
       "      <td>0.770868</td>\n",
       "      <td>0.766993</td>\n",
       "      <td>0.634985</td>\n",
       "      <td>-0.612370</td>\n",
       "      <td>0.422846</td>\n",
       "      <td>0.017294</td>\n",
       "      <td>-0.251434</td>\n",
       "      <td>-0.031177</td>\n",
       "      <td>2.087225</td>\n",
       "      <td>2.488147</td>\n",
       "      <td>-0.944503</td>\n",
       "      <td>0.981166</td>\n",
       "      <td>-0.930187</td>\n",
       "    </tr>\n",
       "  </tbody>\n",
       "</table>\n",
       "</div>"
      ],
      "text/plain": [
       "      AtBat      Hits     HmRun      Runs       RBI     Walks     Years  \\\n",
       "0 -0.602900 -0.595675 -0.528551 -1.206112 -0.522063 -0.097527  1.397893   \n",
       "1  0.512542  0.492260  0.729966  0.441515  0.794060  1.609373 -0.901200   \n",
       "2  0.628167  0.736490  0.958788  0.402286  1.026317 -0.189792  0.770868   \n",
       "3 -0.562092 -0.462459 -0.185319 -0.617673 -0.367225 -0.512719 -1.110209   \n",
       "4  1.294712  1.358167 -0.871783  0.755349 -0.018840 -0.282057  0.770868   \n",
       "\n",
       "     CAtBat     CHits    CHmRun     CRuns      CRBI    CWalks   PutOuts  \\\n",
       "0  0.346791  0.174373 -0.002920 -0.121671  0.258966  0.435334  1.221499   \n",
       "1 -0.452865 -0.409892 -0.076054 -0.415105 -0.199590  0.010373  2.109109   \n",
       "2  1.301558  1.318174  1.898565  1.412051  1.572666  0.355654 -0.324661   \n",
       "3 -0.990935 -0.960153 -0.697693 -0.947521 -0.881228 -0.862315  1.840678   \n",
       "4  0.766993  0.634985 -0.612370  0.422846  0.017294 -0.251434 -0.031177   \n",
       "\n",
       "    Assists    Errors  League_N  Division_W  NewLeague_N  \n",
       "0 -0.523191  0.213352  1.058758    0.981166     1.075052  \n",
       "1 -0.253863  0.819964 -0.944503    0.981166    -0.930187  \n",
       "2 -0.744179 -0.848219  1.058758   -1.019196     1.075052  \n",
       "3 -0.543909 -0.696566  1.058758   -1.019196     1.075052  \n",
       "4  2.087225  2.488147 -0.944503    0.981166    -0.930187  "
      ]
     },
     "execution_count": 205,
     "metadata": {},
     "output_type": "execute_result"
    }
   ],
   "source": [
    "X.head()"
   ]
  },
  {
   "cell_type": "code",
   "execution_count": 209,
   "metadata": {},
   "outputs": [],
   "source": [
    "X_train, X_test, y_train, y_test = train_test_split(X, \n",
    "                                                    y, \n",
    "                                                    test_size=0.70, \n",
    "                                                    random_state=46)"
   ]
  },
  {
   "cell_type": "code",
   "execution_count": 134,
   "metadata": {},
   "outputs": [],
   "source": [
    "ridge_model = Ridge().fit(X_train, y_train)"
   ]
  },
  {
   "cell_type": "code",
   "execution_count": 135,
   "metadata": {},
   "outputs": [
    {
     "data": {
      "text/plain": [
       "array([-1.24983261e+00,  5.21635095e+00,  5.99953730e+00,  8.11444821e-01,\n",
       "       -1.32339857e+00,  2.21500510e+00, -7.20081345e-03, -4.07245382e-01,\n",
       "        1.71379429e+00,  2.41233831e+00,  3.92493586e-01, -7.25551240e-01,\n",
       "       -6.94096173e-02,  3.28303081e-01,  1.59739783e-01, -5.95098543e-01,\n",
       "        6.58770989e+01, -5.32933827e+01, -4.60724983e+01])"
      ]
     },
     "execution_count": 135,
     "metadata": {},
     "output_type": "execute_result"
    }
   ],
   "source": [
    "ridge_model.coef_"
   ]
  },
  {
   "cell_type": "code",
   "execution_count": 136,
   "metadata": {},
   "outputs": [
    {
     "data": {
      "text/plain": [
       "41.23775972250269"
      ]
     },
     "execution_count": 136,
     "metadata": {},
     "output_type": "execute_result"
    }
   ],
   "source": [
    "ridge_model.intercept_"
   ]
  },
  {
   "cell_type": "markdown",
   "metadata": {},
   "source": [
    "# Prediction"
   ]
  },
  {
   "cell_type": "code",
   "execution_count": 137,
   "metadata": {},
   "outputs": [
    {
     "data": {
      "text/plain": [
       "479.22577261077737"
      ]
     },
     "execution_count": 137,
     "metadata": {},
     "output_type": "execute_result"
    }
   ],
   "source": [
    "y_pred = ridge_model.predict(X_test)\n",
    "np.sqrt(mean_squared_error(y_test, y_pred))"
   ]
  },
  {
   "cell_type": "code",
   "execution_count": 140,
   "metadata": {},
   "outputs": [
    {
     "data": {
      "text/plain": [
       "Ridge(alpha=1.0, copy_X=True, fit_intercept=True, max_iter=None,\n",
       "      normalize=False, random_state=None, solver='auto', tol=0.001)"
      ]
     },
     "execution_count": 140,
     "metadata": {},
     "output_type": "execute_result"
    }
   ],
   "source": [
    "ridge_model"
   ]
  },
  {
   "cell_type": "code",
   "execution_count": 150,
   "metadata": {},
   "outputs": [],
   "source": [
    "alphas = 10**np.linspace(10,-2,100)*0.5"
   ]
  },
  {
   "cell_type": "code",
   "execution_count": 154,
   "metadata": {
    "collapsed": true,
    "jupyter": {
     "outputs_hidden": true
    }
   },
   "outputs": [
    {
     "name": "stdout",
     "output_type": "stream",
     "text": [
      "489.4888435455721\n",
      "485.3571119652054\n",
      "480.9886654641195\n",
      "476.6300063524503\n",
      "472.5762802768837\n",
      "469.11548331192387\n",
      "466.4621193455397\n",
      "464.70699623223805\n",
      "463.8055159010426\n",
      "463.60733494279015\n",
      "463.9098250901548\n",
      "464.5108709161417\n",
      "465.244470471982\n",
      "465.995582505842\n",
      "466.6994554687628\n",
      "467.3328446992651\n",
      "467.90251042539114\n",
      "468.43343704496874\n",
      "468.9573671844714\n",
      "469.5021575494212\n",
      "470.08359997310515\n",
      "470.702203484162\n",
      "471.346420918165\n",
      "472.00084373930395\n",
      "472.6550421836881\n",
      "473.3085513057541\n",
      "473.9704736820495\n",
      "474.65598103322026\n",
      "475.38347585375567\n",
      "476.1740450724346\n",
      "477.0510868245343\n",
      "478.03641592627076\n",
      "479.1418059329966\n",
      "480.35971104693493\n",
      "481.659257552972\n",
      "482.99099211724115\n",
      "484.29848712838253\n",
      "485.5312215129888\n",
      "486.6535070345633\n",
      "487.6472867708219\n",
      "488.5096919177122\n",
      "489.2477792645082\n",
      "489.8729398901456\n",
      "490.39672361900614\n",
      "490.82878117196987\n",
      "491.17665216190204\n",
      "491.44656463852516\n",
      "491.6444085436305\n",
      "491.77638532626094\n",
      "491.84917018103914\n",
      "491.86961174806794\n",
      "491.84409641767974\n",
      "491.7777650382642\n",
      "491.67376891040965\n",
      "491.5326964849659\n",
      "491.3522431566527\n",
      "491.12716812859776\n",
      "490.84958004320754\n",
      "490.50960251478153\n",
      "490.09648170983894\n",
      "489.60018957198605\n",
      "489.01350871522294\n",
      "488.3344232173956\n",
      "487.568394007595\n",
      "486.72985893014106\n",
      "485.8422307856149\n",
      "484.9359323069621\n",
      "484.0446205697389\n",
      "483.2004792571581\n",
      "482.4298868350925\n",
      "481.75060881519954\n",
      "481.17100090774244\n",
      "480.69096173875465\n",
      "480.303936198907\n",
      "479.99924491582397\n",
      "479.76423472999744\n",
      "479.5859927264126\n",
      "479.45253747304275\n",
      "479.3535023591157\n",
      "479.280391714256\n",
      "479.2265306152297\n",
      "479.186837780855\n",
      "479.15752978695156\n",
      "479.1358285848064\n",
      "479.1197090874774\n",
      "479.1076983165057\n",
      "479.0987234841873\n",
      "479.09200059154057\n",
      "479.0869541297359\n",
      "479.08315963476053\n",
      "479.0803026294474\n",
      "479.0781491815045\n",
      "479.07652467223676\n",
      "479.07529838371505\n",
      "479.0743722344215\n",
      "479.0736724947827\n",
      "479.0731436602967\n",
      "479.0727438991879\n",
      "479.07244165672665\n",
      "479.07221311432625\n"
     ]
    }
   ],
   "source": [
    "ridge_model = Ridge()\n",
    "coefs = []\n",
    "\n",
    "for i in alphas:\n",
    "    ridge_model.set_params(alpha = i)\n",
    "    ridge_model.fit(X_train, y_train)\n",
    "    y_pred = ridge_model.predict(X_test)\n",
    "    print(np.sqrt(mean_squared_error(y_test, y_pred)))"
   ]
  },
  {
   "cell_type": "code",
   "execution_count": 156,
   "metadata": {},
   "outputs": [],
   "source": [
    "ridge_model = Ridge()\n",
    "coefs = []\n",
    "\n",
    "for i in alphas:\n",
    "    ridge_model.set_params(alpha = i)\n",
    "    ridge_model.fit(X_train, y_train)\n",
    "    coefs.append(ridge_model.coef_)\n"
   ]
  },
  {
   "cell_type": "code",
   "execution_count": 152,
   "metadata": {
    "collapsed": true,
    "jupyter": {
     "outputs_hidden": true
    }
   },
   "outputs": [
    {
     "data": {
      "text/plain": [
       "[array([ 1.22726434e-03,  4.08343764e-04,  6.85674660e-05,  2.31415000e-04,\n",
       "         2.34974973e-04,  1.81339418e-04,  2.73200743e-05,  1.84282360e-02,\n",
       "         5.50629096e-03,  7.04704782e-04,  2.92986371e-03,  2.87345417e-03,\n",
       "         2.02323913e-03,  1.94052434e-03, -2.39581686e-05,  2.59515380e-06,\n",
       "        -8.05647088e-08, -1.57461901e-06, -5.39516197e-08]),\n",
       " array([ 1.60021560e-03,  5.33029353e-04,  8.90044455e-05,  3.02435037e-04,\n",
       "         3.05355597e-04,  2.35582390e-04,  3.33704386e-05,  2.29637113e-02,\n",
       "         6.88760275e-03,  8.87820790e-04,  3.67508069e-03,  3.60242710e-03,\n",
       "         2.52790070e-03,  2.55232250e-03, -2.67501967e-05,  3.86521724e-06,\n",
       "        -9.48183956e-08, -2.06054121e-06, -6.30067895e-08]),\n",
       " array([ 2.08123969e-03,  6.94188976e-04,  1.15140002e-04,  3.94433115e-04,\n",
       "         3.95555856e-04,  3.05060036e-04,  3.99060951e-05,  2.82141222e-02,\n",
       "         8.50484859e-03,  1.10653481e-03,  4.55458024e-03,  4.46144569e-03,\n",
       "         3.11678685e-03,  3.35354068e-03, -2.78348022e-05,  5.77346436e-06,\n",
       "        -1.07473522e-07, -2.69160098e-06, -7.06077137e-08]),\n",
       " array([ 2.70007210e-03,  9.02021050e-04,  1.48444082e-04,  5.13366446e-04,\n",
       "         5.10775034e-04,  3.93751383e-04,  4.64944108e-05,  3.41087208e-02,\n",
       "         1.03496480e-02,  1.36285546e-03,  5.56891245e-03,  5.45006191e-03,\n",
       "         3.78540790e-03,  4.40134969e-03, -2.56316286e-05,  8.61500186e-06,\n",
       "        -1.15568544e-07, -3.50984846e-06, -7.45984338e-08]),\n",
       " array([ 3.49486035e-03,  1.16965538e-03,  1.90784106e-04,  6.66925857e-04,\n",
       "         6.57633192e-04,  5.06720312e-04,  5.24609277e-05,  4.05005120e-02,\n",
       "         1.23958890e-02,  1.65773221e-03,  6.71118741e-03,  6.56008876e-03,\n",
       "         4.52220116e-03,  5.76971250e-03, -1.78951420e-05,  1.27922694e-05,\n",
       "        -1.14816267e-07, -4.56990290e-06, -7.19223636e-08]),\n",
       " array([ 4.51506379e-03,  1.51415828e-03,  2.44575728e-04,  8.65122463e-04,\n",
       "         8.44693862e-04,  6.50518380e-04,  5.68707376e-05,  4.71707622e-02,\n",
       "         1.46021097e-02,  1.99159733e-03,  7.96876352e-03,  7.77710901e-03,\n",
       "         5.30929234e-03,  7.55410398e-03, -1.63040729e-06,  1.88368657e-05,\n",
       "        -9.94829835e-08, -5.94329525e-06, -5.85998664e-08]),\n",
       " array([ 5.82534783e-03,  1.95788184e-03,  3.12992703e-04,  1.12107166e-03,\n",
       "         1.08318334e-03,  8.33741161e-04,  5.85362265e-05,  5.38506700e-02,\n",
       "         1.69190129e-02,  2.36555541e-03,  9.32768168e-03,  9.08462073e-03,\n",
       "         6.12514308e-03,  9.87723632e-03,  2.69433190e-05,  2.74309381e-05,\n",
       "        -6.24019410e-08, -7.72434705e-06, -2.98563076e-08]),\n",
       " array([ 7.51052549e-03,  2.53018758e-03,  4.00238850e-04,  1.45199525e-03,\n",
       "         1.38791491e-03,  1.06774540e-03,  5.60419074e-05,  6.02562054e-02,\n",
       "         1.93010792e-02,  2.78311927e-03,  1.07793650e-02,  1.04702994e-02,\n",
       "         6.94868728e-03,  1.28956311e-02,  7.23868054e-05,  3.94293761e-05,\n",
       "         4.89240545e-09, -1.00378778e-05,  1.95707794e-08]),\n",
       " array([ 9.68146439e-03,  3.26953865e-03,  5.11877301e-04,  1.88044471e-03,\n",
       "         1.77839852e-03,  1.36751320e-03,  4.77650313e-05,  6.61259376e-02,\n",
       "         2.17195256e-02,  3.25219740e-03,  1.23282440e-02,  1.19329808e-02,\n",
       "         7.76391285e-03,  1.68065449e-02,  1.40009131e-04,  5.58849722e-05,\n",
       "         1.11957228e-07, -1.30490158e-05,  9.49164283e-08]),\n",
       " array([ 1.24817571e-02,  4.22592554e-03,  6.55207611e-04,  2.43573417e-03,\n",
       "         2.28009680e-03,  1.75263581e-03,  3.18680614e-05,  7.12500712e-02,\n",
       "         2.41734163e-02,  3.78698388e-03,  1.39987559e-02,  1.34887213e-02,\n",
       "         8.56368030e-03,  2.18542462e-02,  2.35811535e-04,  7.80772927e-05,\n",
       "         2.69196887e-07, -1.69754433e-05,  2.00587651e-07]),\n",
       " array([ 1.60948341e-02,  5.46356403e-03,  8.39680164e-04,  3.15555775e-03,\n",
       "         2.92577675e-03,  2.24838292e-03,  6.24837008e-06,  7.54830320e-02,\n",
       "         2.66968900e-02,  4.40951870e-03,  1.58407619e-02,  1.51748260e-02,\n",
       "         9.35200218e-03,  2.83338834e-02,  3.66358777e-04,  1.07541436e-04,\n",
       "         4.87552115e-07, -2.21025470e-05,  3.38894542e-07]),\n",
       " array([ 2.07510001e-02,  7.06375749e-03,  1.07733493e-03,  4.08774049e-03,\n",
       "         3.75688629e-03,  2.88681202e-03, -3.15536445e-05,  7.87389513e-02,\n",
       "         2.93624211e-02,  5.15088379e-03,  1.79334174e-02,  1.70516446e-02,\n",
       "         1.01447397e-02,  3.65901181e-02,  5.38448540e-04,  1.46085586e-04,\n",
       "         7.78016207e-07, -2.88021311e-05,  5.07991393e-07]),\n",
       " array([ 2.67335050e-02,  9.12772100e-03,  1.38324225e-03,  5.29201997e-03,\n",
       "         4.82483777e-03,  3.70784137e-03, -8.44725584e-05,  8.09750567e-02,\n",
       "         3.22815942e-02,  6.05214160e-03,  2.03883130e-02,  1.92026199e-02,\n",
       "         1.09692575e-02,  4.70063585e-02,  7.58343052e-04,  1.95777407e-04,\n",
       "         1.15085908e-06, -3.75555345e-05,  6.98591936e-07]),\n",
       " array([ 3.43821883e-02,  1.17790137e-02,  1.77590500e-03,  6.84167148e-03,\n",
       "         6.19199949e-03,  4.76015549e-03, -1.56038544e-04,  8.21699776e-02,\n",
       "         3.56053968e-02,  7.16513743e-03,  2.33529409e-02,  2.17332274e-02,\n",
       "         1.18637685e-02,  5.99791651e-02,  1.03019785e-03,  2.58870118e-04,\n",
       "         1.61460369e-06, -4.89821908e-05,  8.89027849e-07]),\n",
       " array([ 4.40925583e-02,  1.51650447e-02,  2.27755826e-03,  8.82468643e-03,\n",
       "         7.93209967e-03,  6.10174694e-03, -2.50475089e-04,  8.23027800e-02,\n",
       "         3.95256778e-02,  8.55319364e-03,  2.70152780e-02,  2.47691586e-02,\n",
       "         1.28769465e-02,  7.58720598e-02,  1.35317349e-03,  3.37631346e-04,\n",
       "         2.17530452e-06, -6.38749984e-05,  1.03850152e-06]),\n",
       " array([ 5.63075971e-02,  1.94569762e-02,  2.91428508e-03,  1.13441250e-02,\n",
       "         1.01296752e-02,  7.79985461e-03, -3.72750212e-04,  8.13360099e-02,\n",
       "         4.42787176e-02,  1.02915928e-02,  3.16097758e-02,  2.84536952e-02,\n",
       "         1.40680657e-02,  9.49450478e-02,  1.71657334e-03,  4.34035651e-04,\n",
       "         2.83777085e-06, -8.32445312e-05,  1.07918795e-06]),\n",
       " array([ 7.14994581e-02,  2.48473294e-02,  3.71586792e-03,  1.45172349e-02,\n",
       "         1.28782039e-02,  9.93007588e-03, -5.28562606e-04,  7.92036883e-02,\n",
       "         5.01512840e-02,  1.24676381e-02,  3.74244876e-02,  3.29439897e-02,\n",
       "         1.55075927e-02,  1.17262448e-01,  2.09230117e-03,  5.49291745e-04,\n",
       "         3.61234738e-06, -1.08375351e-04,  9.09456890e-07]),\n",
       " array([ 9.01387611e-02,  3.15447896e-02,  4.71532108e-03,  1.84729899e-02,\n",
       "         1.62766759e-02,  1.25745328e-02, -7.24252367e-04,  7.58037279e-02,\n",
       "         5.74892819e-02,  1.51799991e-02,  4.48085075e-02,  3.84059716e-02,\n",
       "         1.72778232e-02,  1.42593019e-01,  2.42416850e-03,  6.83206531e-04,\n",
       "         4.53386158e-06, -1.40899579e-04,  3.93052436e-07]),\n",
       " array([ 1.12650312e-01,  3.97660404e-02,  5.94808898e-03,  2.33478360e-02,\n",
       "         2.04245542e-02,  1.58191292e-02, -9.66635431e-04,  7.09936671e-02,\n",
       "         6.67090379e-02,  1.85369356e-02,  5.41782668e-02,  4.50076536e-02,\n",
       "         1.94727516e-02,  1.70330564e-01,  2.61443279e-03,  8.33446064e-04,\n",
       "         5.70301621e-06, -1.82895123e-04, -6.27809680e-07]),\n",
       " array([ 1.39355163e-01,  4.97247821e-02,  7.45091442e-03,  2.92795288e-02,\n",
       "         2.54152080e-02,  1.97500433e-02, -1.26276489e-03,  6.45888235e-02,\n",
       "         7.83110668e-02,  2.26527225e-02,  6.60204449e-02,  5.29102226e-02,\n",
       "         2.21957879e-02,  1.99472977e-01,  2.50983766e-03,  9.94836162e-04,\n",
       "         7.36359260e-06, -2.37017633e-04, -2.29510641e-06]),\n",
       " array([ 1.70399376e-01,  6.16181780e-02,  9.26035314e-03,  3.63989396e-02,\n",
       "         3.13278635e-02,  2.44495503e-02, -1.61961342e-03,  5.63628727e-02,\n",
       "         9.28954470e-02,  2.76411335e-02,  8.08883169e-02,  6.22550348e-02,\n",
       "         2.55532387e-02,  2.28692526e-01,  1.89262020e-03,  1.15893882e-03,\n",
       "         1.00291518e-05, -3.06675189e-04, -4.66370761e-06]),\n",
       " array([ 2.05670389e-01,  7.56110433e-02,  1.14108956e-02,  4.48197432e-02,\n",
       "         3.82180266e-02,  2.99911502e-02, -2.04365130e-03,  4.60521912e-02,\n",
       "         1.11176430e-01,  3.36044880e-02,  9.93876419e-02,  7.31427983e-02,\n",
       "         2.96410743e-02,  2.56504077e-01,  4.85942116e-04,  1.31421856e-03,\n",
       "         1.46681173e-05, -3.96252521e-04, -7.59210547e-06]),\n",
       " array([ 2.44705153e-01,  9.18189425e-02,  1.39328501e-02,  5.46265225e-02,\n",
       "         4.61068072e-02,  3.64342015e-02, -2.54028557e-03,  3.33663623e-02,\n",
       "         1.33991712e-01,  4.06174126e-02,  1.22148404e-01,  8.56005581e-02,\n",
       "         3.45233734e-02,  2.81498508e-01, -2.01417106e-03,  1.44712821e-03,\n",
       "         2.29450815e-05, -5.11388774e-04, -1.06026556e-05]),\n",
       " array([ 2.86603384e-01,  1.10293912e-01,  1.68508009e-02,  6.58636301e-02,\n",
       "         5.49713478e-02,  4.38193726e-02, -3.11315419e-03,  1.80070202e-02,\n",
       "         1.62299336e-01,  4.87072849e-02,  1.49780610e-01,  9.95353292e-02,\n",
       "         4.02040960e-02,  3.02576750e-01, -5.87117537e-03,  1.54431091e-03,\n",
       "         3.75003516e-05, -6.59312965e-04, -1.27341245e-05]),\n",
       " array([ 3.29972795e-01,  1.31020439e-01,  2.01846119e-02,  7.85299463e-02,\n",
       "         6.47416585e-02,  5.21681907e-02, -3.76333331e-03, -3.04739195e-04,\n",
       "         1.97152933e-01,  5.78386753e-02,  1.82815735e-01,  1.14681712e-01,\n",
       "         4.65995038e-02,  3.19115864e-01, -1.12080064e-02,  1.59573414e-03,\n",
       "         6.22339257e-05, -8.49246760e-04, -1.24238469e-05]),\n",
       " array([ 3.72942769e-01,  1.53932170e-01,  2.39561191e-02,  9.25868920e-02,\n",
       "         7.53120318e-02,  6.14916987e-02, -4.48856156e-03, -2.17947332e-02,\n",
       "         2.39644392e-01,  6.79150489e-02,  2.21638365e-01,  1.30561488e-01,\n",
       "         5.35239320e-02,  3.31024703e-01, -1.78996199e-02,  1.59794535e-03,\n",
       "         1.02552583e-04, -1.09289483e-03, -7.46354625e-06]),\n",
       " array([ 4.13276650e-01,  1.78958259e-01,  2.82048950e-02,  1.07986351e-01,\n",
       "         8.65751602e-02,  7.18128882e-02, -5.28254213e-03, -4.65990944e-02,\n",
       "         2.90803092e-01,  7.88130905e-02,  2.66412133e-01,  1.46478030e-01,\n",
       "         6.07015184e-02,  3.38686599e-01, -2.55029700e-02,  1.55604543e-03,\n",
       "         1.65550239e-04, -1.40505570e-03,  4.93633366e-06]),\n",
       " array([ 4.48585494e-01,  2.06100809e-01,  3.30149276e-02,  1.24720258e-01,\n",
       "         9.84820890e-02,  8.32041342e-02, -6.13424500e-03, -7.47257859e-02,\n",
       "         3.51444902e-01,  9.04589438e-02,  3.16999534e-01,  1.61559511e-01,\n",
       "         6.78072932e-02,  3.42820060e-01, -3.32706157e-02,  1.48292297e-03,\n",
       "         2.60129665e-04, -1.80440087e-03,  2.79695681e-05]),\n",
       " array([ 4.76605918e-01,  2.35534205e-01,  3.85507699e-02,  1.42886053e-01,\n",
       "         1.11121887e-01,  9.58353882e-02, -7.02701170e-03, -1.06012361e-01,\n",
       "         4.21976196e-01,  1.02941566e-01,  3.72871815e-01,  1.74842825e-01,\n",
       "         7.45260565e-02,  3.44304727e-01, -4.02665474e-02,  1.39511739e-03,\n",
       "         3.97133988e-04, -2.31449303e-03,  6.49883781e-05]),\n",
       " array([ 4.95471046e-01,  2.67709089e-01,  4.50979008e-02,  1.62755941e-01,\n",
       "         1.24805191e-01,  1.10024361e-01, -7.93734295e-03, -1.40079862e-01,\n",
       "         5.02180640e-01,  1.16642873e-01,  4.33012361e-01,  1.85367435e-01,\n",
       "         8.06067731e-02,  3.44018708e-01, -4.55566486e-02,  1.30610886e-03,\n",
       "         5.89620086e-04, -2.96515574e-03,  1.19283526e-04]),\n",
       " array([ 5.03895308e-01,  3.03443378e-01,  5.30994378e-02,  1.84836694e-01,\n",
       "         1.40130208e-01,  1.26278947e-01, -8.83360340e-03, -1.76292660e-01,\n",
       "         5.91046165e-01,  1.32356208e-01,  4.95838786e-01,  1.92241169e-01,\n",
       "         8.58919922e-02,  3.42719902e-01, -4.84086680e-02,  1.21905541e-03,\n",
       "         8.53449592e-04, -3.79436345e-03,  1.94019219e-04]),\n",
       " array([ 5.01216907e-01,  3.43989886e-01,  6.31809991e-02,  2.09910558e-01,\n",
       "         1.58010603e-01,  1.45324687e-01, -9.67532829e-03, -2.13747120e-01,\n",
       "         6.86710833e-01,  1.51367901e-01,  5.59193184e-01,  1.94654181e-01,\n",
       "         9.03143981e-02,  3.40984625e-01, -4.84308734e-02,  1.12128050e-03,\n",
       "         1.20838565e-03, -4.85086697e-03,  2.92460319e-04]),\n",
       " array([ 4.87286750e-01,  3.91079362e-01,  7.61572410e-02,  2.39053193e-01,\n",
       "         1.79650570e-01,  1.68113590e-01, -1.04139759e-02, -2.51315451e-01,\n",
       "         7.86595657e-01,  1.75487775e-01,  6.20451668e-01,  1.91843265e-01,\n",
       "         9.38668994e-02,  3.39198745e-01, -4.56065060e-02,  9.82054324e-04,\n",
       "         1.67987311e-03, -6.19776147e-03,  4.18615721e-04]),\n",
       " array([ 4.62242368e-01,  4.46941906e-01,  9.30161690e-02,  2.73626569e-01,\n",
       "         2.06459484e-01,  1.95812029e-01, -1.09955490e-02, -2.87755138e-01,\n",
       "         8.87735919e-01,  2.07025862e-01,  6.76766467e-01,  1.83030517e-01,\n",
       "         9.65611749e-02,  3.37585056e-01, -4.02251361e-02,  7.53915023e-04,\n",
       "         2.30166633e-03, -7.91711940e-03,  5.78398045e-04]),\n",
       " array([ 4.26242978e-01,  5.14305370e-01,  1.14879215e-01,  3.15241624e-01,\n",
       "         2.39903047e-01,  2.29763417e-01, -1.13646647e-02, -3.21863987e-01,\n",
       "         9.87238140e-01,  2.48718136e-01,  7.25390881e-01,  1.67369089e-01,\n",
       "         9.83909092e-02,  3.36247449e-01, -3.27496199e-02,  3.76680434e-04,\n",
       "         3.11947384e-03, -1.01156888e-02,  7.81383155e-04]),\n",
       " array([ 3.79255265e-01,  5.96358027e-01,  1.42935327e-01,  3.65678851e-01,\n",
       "         2.81288096e-01,  2.71416604e-01, -1.14689435e-02, -3.52635678e-01,\n",
       "         1.08272565e+00,  3.03600715e-01,  7.63991456e-01,  1.43925931e-01,\n",
       "         9.93120347e-02,  3.35215777e-01, -2.36735574e-02, -2.16990166e-04,\n",
       "         4.19582930e-03, -1.29315985e-02,  1.04325987e-03]),\n",
       " array([ 3.20964305e-01,  6.96649503e-01,  1.78346920e-01,  4.26749204e-01,\n",
       "         3.31477546e-01,  3.22206461e-01, -1.12625114e-02, -3.79368888e-01,\n",
       "         1.17263438e+00,  3.74821288e-01,  7.90859387e-01,  1.11723487e-01,\n",
       "         9.92452735e-02,  3.34481662e-01, -1.34161787e-02, -1.09486058e-03,\n",
       "         5.61647618e-03, -1.65421286e-02,  1.38909368e-03]),\n",
       " array([ 0.25084703,  0.8188951 ,  0.22212846,  0.50007811,  0.39054002,\n",
       "         0.38337392, -0.0107079 , -0.40170535,  1.25628209,  0.46536475,\n",
       "         0.80499059,  0.06985316,  0.09809829,  0.33402191, -0.00227787,\n",
       "        -0.00231596,  0.00749866, -0.02117297,  0.00185757]),\n",
       " array([ 0.16840009,  0.96665113,  0.27501007,  0.58680717,  0.45736795,\n",
       "         0.45572507, -0.00977617, -0.41960217,  1.33371797,  0.57766869,\n",
       "         0.80606994,  0.01766192,  0.09579848,  0.33381071,  0.00954633,\n",
       "        -0.00391584,  0.01000178, -0.02711   ,  0.00250635]),\n",
       " array([ 0.0734714 ,  1.14284941,  0.33732151,  0.68723406,  0.52935205,\n",
       "         0.53935704, -0.00844499, -0.43326377,  1.40542347,  0.71312589,\n",
       "         0.79442703, -0.04500464,  0.09232481,  0.33382376,  0.02191559,\n",
       "        -0.00588183,  0.01334108, -0.03471554,  0.00341873]),\n",
       " array([-0.03338938,  1.34922033,  0.40895897,  0.80044845,  0.60225928,\n",
       "         0.63341732, -0.00669424, -0.44306195,  1.47196201,  0.87152307,\n",
       "         0.77101474, -0.11754645,  0.08772825,  0.33403781,  0.03468147,\n",
       "        -0.0081142 ,  0.01780485, -0.04445196,  0.00471152]),\n",
       " array([-0.15066485,  1.58569104,  0.48950913,  0.92405537,  0.67047829,\n",
       "         0.73599562, -0.00449812, -0.4494648 ,  1.53367415,  1.05053909,\n",
       "         0.73741497, -0.19841387,  0.08213396,  0.33442809,  0.04764005,\n",
       "        -0.01037335,  0.02377625, -0.05691663,  0.00654425]),\n",
       " array([-2.75783634e-01,  1.84990135e+00,  5.78576191e-01,  1.05408908e+00,\n",
       "         7.27714629e-01,  8.44242473e-01, -1.81349555e-03, -4.52983256e-01,\n",
       "         1.59049629e+00,  1.24548812e+00,  6.95828970e-01, -2.85061753e-01,\n",
       "         7.57243592e-02,  3.34965470e-01,  6.05146056e-02, -1.22209925e-02,\n",
       "         3.17608170e-02, -7.28926820e-02,  9.12995169e-03]),\n",
       " array([-4.05266185e-01,  2.13700820e+00,  6.76277510e-01,  1.18519291e+00,\n",
       "         7.68030030e-01,  9.54745745e-01,  1.43439755e-03, -4.54135866e-01,\n",
       "         1.64194667e+00,  1.44949120e+00,  6.48990032e-01, -3.74119228e-01,\n",
       "         6.87080870e-02,  3.35614555e-01,  7.29732938e-02, -1.29753571e-02,\n",
       "         4.24216949e-02, -9.34202443e-02,  1.27480480e-02]),\n",
       " array([-0.53508462,  2.43992313,  0.78376993,  1.31108116,  0.78690998,\n",
       "         1.06408796,  0.00536666, -0.45342693,  1.68727179,  1.65415502,\n",
       "         0.59995748, -0.46177498,  0.06128587,  0.33633364,  0.08467343,\n",
       "        -0.01170965,  0.05662523, -0.11989285,  0.01776049]),\n",
       " array([-0.66115127,  2.75002851,  0.90360033,  1.42522689,  0.78196375,\n",
       "         1.16941169,  0.01016337, -0.45133178,  1.72569063,  1.85065274,\n",
       "         0.55180519, -0.54429124,  0.05362435,  0.33707687,  0.09531496,\n",
       "        -0.00732279,  0.07550043, -0.15418427,  0.02463235]),\n",
       " array([-7.79814230e-01,  3.05826076e+00,  1.03969236e+00,  1.52165655e+00,\n",
       "         7.53006837e-01,  1.26880377e+00,  1.60733892e-02, -4.48283846e-01,\n",
       "         1.75664103e+00,  2.03093035e+00,  5.07273805e-01, -6.18502280e-01,\n",
       "         4.58448219e-02,  3.37798255e-01,  1.04684679e-01,  1.30536286e-03,\n",
       "         1.00516815e-01, -1.98812692e-01,  3.39584253e-02]),\n",
       " array([-0.88824513,  3.35629392,  1.1968807 ,  1.59569392,  0.70157887,\n",
       "         1.3613899 ,  0.02342203, -0.44466167,  1.77994357,  2.18871058,\n",
       "         0.46847991, -0.68216292,  0.03802648,  0.33845672,  0.11267968,\n",
       "         0.01509118,  0.13358592, -0.2571517 ,  0.04649731]),\n",
       " array([-0.98464541,  3.63749386,  1.38003176,  1.64449997,  0.6302119 ,\n",
       "         1.44715783,  0.03261715, -0.44077774,  1.79584779,  2.3200659 ,\n",
       "         0.4367533 , -0.73408275,  0.03021933,  0.33902042,  0.11930753,\n",
       "         0.03450463,  0.177193  , -0.33369988,  0.06321433]),\n",
       " array([-1.0682551 ,  3.89739695,  1.59289422,  1.6673124 ,  0.54182053,\n",
       "         1.52662129,  0.04415111, -0.43687282,  1.80497938,  2.42351411,\n",
       "         0.41262152, -0.77406674,  0.02246064,  0.33946937,  0.12466834,\n",
       "         0.05937287,  0.23456591, -0.43442209,  0.08533325]),\n",
       " array([-1.13920202,  4.13365738,  1.83690011,  1.66537983,  0.43942974,\n",
       "         1.60045839,  0.058591  , -0.43311823,  1.80823606,  2.4997452 ,\n",
       "         0.39591182, -0.80273528,  0.01479059,  0.33979575,  0.12892632,\n",
       "         0.08879385,  0.30988741, -0.56717432,  0.11439342]),\n",
       " array([-1.19826088,  4.34559969,  2.11020141,  1.64165983,  0.32621808,\n",
       "         1.66922369,  0.07654524, -0.429625  ,  1.80667603,  2.5511468 ,\n",
       "         0.38591763, -0.82130049,  0.00726407,  0.34000226,  0.13227838,\n",
       "         0.12119703,  0.40855457, -0.74221947,  0.1523031 ]),\n",
       " array([-1.24659479e+00,  4.53361499e+00,  2.40726057e+00,  1.60036856e+00,\n",
       "         2.05678983e-01,  1.73318380e+00,  9.85939069e-02, -4.26456778e-01,\n",
       "         1.80142111e+00,  2.58126595e+00,  3.81581912e-01, -8.31347375e-01,\n",
       "        -4.36318053e-05,  3.40099090e-01,  1.34925531e-01,  1.54543509e-01,\n",
       "         5.37482904e-01, -9.72833505e-01,  2.01369703e-01]),\n",
       " array([-1.28553195,  4.69862782,  2.71924737,  1.54644641,  0.08166854,\n",
       "         1.79228715,  0.12517559, -0.42364252,  1.79357614,  2.59428118,\n",
       "         0.38166991, -0.83463676, -0.00703932,  0.34010053,  0.13705129,\n",
       "         0.18660884,  0.70544297, -1.27598845,  0.26427345]),\n",
       " array([-1.31640276,  4.84176657,  3.03527714,  1.48498388, -0.04179356,\n",
       "         1.846249  ,  0.15643682, -0.42118633,  1.78415845,  2.5945152 ,\n",
       "         0.38491966, -0.83293019, -0.01362297,  0.34002154,  0.13880929,\n",
       "         0.21526469,  0.9234021 , -1.67307809,  0.34393091]),\n",
       " array([-1.34043898,  4.96425047,  3.34420852,  1.42066502, -0.16094254,\n",
       "         1.89470799,  0.19206889, -0.41907385,  1.77403576,  2.58601289,\n",
       "         0.3901646 , -0.82783973, -0.01970455,  0.33987499,  0.14031994,\n",
       "         0.23868512,  1.20482233, -2.19061581,  0.44316746]),\n",
       " array([-1.35872284,  5.06741506,  3.63647392,  1.35731257, -0.27275016,\n",
       "         1.93739463,  0.23117534, -0.41727601,  1.76387981,  2.57222086,\n",
       "         0.39642077, -0.82071433, -0.02522113,  0.33966973,  0.1416739 ,\n",
       "         0.2554439 ,  1.56583938, -2.86076882,  0.56408451]),\n",
       " array([-1.37216968,  5.15276883,  3.90540635,  1.29761652, -0.3752841 ,\n",
       "         1.97425704,  0.27222017, -0.41575203,  1.75414612,  2.5558042 ,\n",
       "         0.40293183, -0.81257672, -0.03014847,  0.33940975,  0.14293857,\n",
       "         0.26451692,  2.02522229, -3.72148978,  0.70697646]),\n",
       " array([-1.38153046,  5.22200423,  4.14776173,  1.24308157, -0.46783048,\n",
       "         2.00551452,  0.31309078, -0.41445278,  1.74508522,  2.53861064,\n",
       "         0.40917135, -0.80411613, -0.03450343,  0.33909435,  0.14416436,\n",
       "         0.26523404,  2.60400839, -4.81586924,  0.8686441 ]),\n",
       " array([-1.38740532,  5.27694191,  4.36345963,  1.19416508, -0.5507734 ,\n",
       "         2.03164156,  0.35127329, -0.41332525,  1.73678129,  2.52175741,\n",
       "         0.41481137, -0.79572822, -0.03833794,  0.33871935,  0.14538859,\n",
       "         0.25722995,  3.32475301, -6.19019294,  1.04000594]),\n",
       " array([-1.39026463,  5.31943127,  4.55479407,  1.15053386, -0.6253053 ,\n",
       "         2.05330606,  0.38409966, -0.41231769,  1.72920716,  2.50579276,\n",
       "         0.41967229, -0.78758449, -0.04172702,  0.33827895,  0.14663665,\n",
       "         0.24042793,  4.21046408, -7.89012409,  1.20307283]),\n",
       " array([-1.39047635,  5.35124529,  4.72542581,  1.11136397, -0.69306389,\n",
       "         2.0712892 ,  0.40901418, -0.4113848 ,  1.72228287,  2.49088233,\n",
       "         0.42366985, -0.77971222, -0.04475492,  0.33776808,  0.14792096,\n",
       "         0.21506328,  5.28351696, -9.95456922,  1.32765376]),\n",
       " array([ -1.38833893,   5.37399976,   4.87940422,   1.07562922,\n",
       "         -0.75577279,   2.08640518,   0.42382962,  -0.41049228,\n",
       "          1.71592723,   2.47698358,   0.42677116,  -0.7720708 ,\n",
       "         -0.04750204,   0.33718485,   0.14923941,   0.18172562,\n",
       "          6.56509367, -12.40728789,   1.3685556 ]),\n",
       " array([ -1.38411708,   5.38910903,   5.02036937,   1.04235005,\n",
       "         -0.81493429,   2.09942853,   0.42697688,  -0.40962017,\n",
       "          1.71009568,   2.46398807,   0.42896639,  -0.76461558,\n",
       "         -0.05003466,   0.33653269,   0.15057492,   0.14137952,\n",
       "          8.07577314, -15.24726351,   1.26435962]),\n",
       " array([ -1.3780751 ,   5.39777579,   5.15100991,   1.010788  ,\n",
       "         -0.87160476,   2.11103115,   0.41775458,  -0.40876453,\n",
       "          1.70480053,   2.45182285,   0.4302574 ,  -0.75734423,\n",
       "         -0.05239867,   0.33582161,   0.15189764,   0.09532182,\n",
       "          9.83755918, -18.44011684,   0.9388531 ]),\n",
       " array([ -1.37050023,   5.40100382,   5.27281098,   0.98057041,\n",
       "         -0.92627625,   2.121733  ,   0.39654231,  -0.40793705,\n",
       "          1.70011291,   2.44050811,   0.43065944,  -0.75032188,\n",
       "         -0.05461772,   0.33506827,   0.15317019,   0.0450561 ,\n",
       "         11.87676148, -21.9138443 ,   0.3057144 ]),\n",
       " array([-1.36170954e+00,  5.39962265e+00,  5.38609407e+00,  9.51727493e-01,\n",
       "        -9.78881391e-01,  2.13187509e+00,  3.64885758e-01, -4.07162147e-01,\n",
       "         1.69614827e+00,  2.43017092e+00,  4.30208735e-01, -7.43682900e-01,\n",
       "        -5.66958236e-02,  3.34294363e-01,  1.54354786e-01, -7.89481014e-03,\n",
       "         1.42260338e+01, -2.55619985e+01, -7.23733787e-01]),\n",
       " array([ -1.35203864,   5.39431721,   5.49030758,   0.92463189,\n",
       "         -1.02891838,   2.14162296,   0.32535668,  -0.40647185,\n",
       "          1.69304017,   2.42101965,   0.42896819,  -0.73761033,\n",
       "         -0.05862343,   0.33352389,   0.15542032,  -0.06218081,\n",
       "         16.92321271, -29.25544582,  -2.23051488]),\n",
       " array([ -1.34181785,   5.38566197,   5.58447239,   0.89985587,\n",
       "         -1.07566062,   2.151001  ,   0.28116659,  -0.40589908,\n",
       "          1.69090895,   2.41329045,   0.42702699,  -0.73229924,\n",
       "         -0.06038519,   0.33277977,   0.15634702,  -0.11675286,\n",
       "         20.00505668, -32.86048199,  -4.27668163]),\n",
       " array([ -1.33134743,   5.37416284,   5.66764842,   0.87798916,\n",
       "         -1.11838692,   2.15994594,   0.23563073,  -0.4054708 ,\n",
       "          1.68983191,   2.40718298,   0.42449466,  -0.72791489,\n",
       "         -0.06196723,   0.33208096,   0.15712786,  -0.17088305,\n",
       "         23.49567175, -36.25812438,  -6.89353528]),\n",
       " array([ -1.32088344,   5.36030718,   5.7392949 ,   0.85947371,\n",
       "         -1.15656445,   2.16836073,   0.19165253,  -0.40520248,\n",
       "          1.6898206 ,   2.40280449,   0.421494  ,  -0.72455753,\n",
       "         -0.06336216,   0.33144066,   0.15776708,  -0.22407768,\n",
       "         27.3918045 , -39.35878926, -10.07055164]),\n",
       " array([ -1.31063868,   5.34461454,   5.79945087,   0.84449919,\n",
       "         -1.18994251,   2.1761536 ,   0.15137846,  -0.405095  ,\n",
       "          1.69080899,   2.40013645,   0.41815604,  -0.72224261,\n",
       "         -0.06457099,   0.33086614,   0.15827701,  -0.27592849,\n",
       "         31.64939421, -42.10878728, -13.74728826]),\n",
       " array([ -1.30079411,   5.32767178,   5.84873516,   0.83297563,\n",
       "         -1.21855574,   2.18325687,   0.11608277,  -0.4051345 ,\n",
       "          1.69265497,   2.39902988,   0.4146174 ,  -0.72089963,\n",
       "         -0.06560239,   0.3303596 ,   0.15867462,  -0.32597082,\n",
       "         36.17682913, -44.48863776, -17.81174632]),\n",
       " array([ -1.29151034,   5.31013515,   5.88821876,   0.82457257,\n",
       "         -1.24266606,   2.18963062,   0.08624781,  -0.40529501,\n",
       "          1.69515544,   2.39922778,   0.411017  ,  -0.72038755,\n",
       "         -0.06647048,   0.32991968,   0.15897855,  -0.37361091,\n",
       "         40.83930448, -46.5059609 , -22.10847767]),\n",
       " array([ -1.28293054,   5.29269186,   5.91924005,   0.81879912,\n",
       "         -1.26268177,   2.19525954,   0.0617564 ,  -0.40554308,\n",
       "          1.69807302,   2.40040684,   0.40748928,  -0.72052143,\n",
       "         -0.06719232,   0.32954278,   0.15920697,  -0.41815093,\n",
       "         45.47518628, -48.18650133, -26.45711531]),\n",
       " array([-1.27517282e+00,  5.27599111e+00,  5.94322273e+00,  8.15096468e-01,\n",
       "        -1.27908321e+00,  2.20014959e+00,  4.21131313e-02, -4.05843288e-01,\n",
       "         1.70116860e+00,  2.40222714e+00,  4.04153989e-01, -7.21103024e-01,\n",
       "        -6.77859379e-02,  3.29224114e-01,  1.59376298e-01, -4.58894362e-01,\n",
       "         4.99204656e+01, -4.95659747e+01, -3.06777161e+01]),\n",
       " array([-1.26831752e+00,  5.26056963e+00,  5.96153219e+00,  8.12919463e-01,\n",
       "        -1.29236785e+00,  2.20432634e+00,  2.66383049e-02, -4.06163286e-01,\n",
       "         1.70423163e+00,  2.40437733e+00,  4.01105314e-01, -7.21948141e-01,\n",
       "        -6.82690027e-02,  3.28958208e-01,  1.59500534e-01, -4.95279816e-01,\n",
       "         5.40338004e+01, -5.06839679e+01, -3.46158839e+01]),\n",
       " array([-1.26239728e+00,  5.24679816e+00,  5.97538400e+00,  8.11793209e-01,\n",
       "        -1.30301561e+00,  2.20783352e+00,  1.46095784e-02, -4.06477259e-01,\n",
       "         1.70710103e+00,  2.40660581e+00,  3.98404546e-01, -7.22905383e-01,\n",
       "        -6.86581583e-02,  3.28739243e-01,  1.59591069e-01, -5.26985722e-01,\n",
       "         5.77145840e+01, -5.15799578e+01, -3.81605229e+01]),\n",
       " array([-1.25739541e+00,  5.23486434e+00,  5.98580132e+00,  8.11340680e-01,\n",
       "        -1.31146914e+00,  2.21073033e+00,  5.34929996e-03, -4.06767409e-01,\n",
       "         1.70967303e+00,  2.40873394e+00,  3.96078660e-01, -7.23864368e-01,\n",
       "        -6.89686622e-02,  3.28561245e-01,  1.59656825e-01, -5.53970976e-01,\n",
       "         6.09099464e+01, -5.22909668e+01, -4.12504058e+01]),\n",
       " array([-1.25325309e+00,  5.22479061e+00,  5.99360961e+00,  8.11285874e-01,\n",
       "        -1.31812375e+00,  2.21308667e+00, -1.73224769e-03, -4.07023637e-01,\n",
       "         1.71189743e+00,  2.41065335e+00,  3.94124649e-01, -7.24754727e-01,\n",
       "        -6.92142063e-02,  3.28418293e-01,  1.59704566e-01, -5.76450294e-01,\n",
       "         6.36112611e+01, -5.28503130e+01, -4.38702648e+01]),\n",
       " array([-1.24988234e+00,  5.21647439e+00,  5.99945435e+00,  8.11441241e-01,\n",
       "        -1.32332326e+00,  2.21497738e+00, -7.12368309e-03, -4.07242095e-01,\n",
       "         1.71376634e+00,  2.41231320e+00,  3.92517406e-01, -7.25539280e-01,\n",
       "        -6.94068219e-02,  3.28304738e-01,  1.59739297e-01, -5.94826898e-01,\n",
       "         6.58439395e+01, -5.32870584e+01, -4.60402411e+01]),\n",
       " array([-1.24718009e+00,  5.20973485e+00,  6.00382925e+00,  8.11688264e-01,\n",
       "        -1.32735987e+00,  2.21647672e+00, -1.12167682e-02, -4.07423321e-01,\n",
       "         1.71530056e+00,  2.41370379e+00,  3.91218482e-01, -7.26204972e-01,\n",
       "        -6.95568576e-02,  3.28215395e-01,  1.59764654e-01, -6.09611609e-01,\n",
       "         6.76550060e+01, -5.36259107e+01, -4.78031871e+01]),\n",
       " array([-1.24504042e+00,  5.20435469e+00,  6.00710659e+00,  8.11957692e-01,\n",
       "        -1.33047685e+00,  2.21765401e+00, -1.43187916e-02, -4.07570491e-01,\n",
       "         1.71653702e+00,  2.41484097e+00,  3.90183729e-01, -7.26754206e-01,\n",
       "        -6.96730290e-02,  3.28145668e-01,  1.59783249e-01, -6.21350493e-01,\n",
       "         6.91018191e+01, -5.38874216e+01, -4.92131700e+01]),\n",
       " array([-1.24336315e+00,  5.20011123e+00,  6.00956467e+00,  8.12212861e-01,\n",
       "        -1.33287311e+00,  2.21857097e+00, -1.66673421e-02, -4.07688042e-01,\n",
       "         1.71751914e+00,  2.41575388e+00,  3.89368892e-01, -7.27197917e-01,\n",
       "        -6.97625345e-02,  3.28091614e-01,  1.59796950e-01, -6.30571858e-01,\n",
       "         7.02435872e+01, -5.40883711e+01, -5.03268154e+01]),\n",
       " array([-1.24205887e+00,  5.19679612e+00,  6.01141075e+00,  8.12437222e-01,\n",
       "        -1.33470872e+00,  2.21928053e+00, -1.84444395e-02, -4.07780741e-01,\n",
       "         1.71829045e+00,  2.41647644e+00,  3.88733083e-01, -7.27550723e-01,\n",
       "        -6.98312176e-02,  3.28049936e-01,  1.59807091e-01, -6.37754076e-01,\n",
       "         7.11359493e+01, -5.42422465e+01, -5.11977457e+01]),\n",
       " array([-1.24105105e+00,  5.19422554e+00,  6.01279899e+00,  8.12625776e-01,\n",
       "        -1.33611085e+00,  2.21982677e+00, -1.97887422e-02, -4.07853125e-01,\n",
       "         1.71889089e+00,  2.41704219e+00,  3.88240518e-01, -7.27827885e-01,\n",
       "        -6.98837528e-02,  3.28017939e-01,  1.59814627e-01, -6.43310603e-01,\n",
       "         7.18281214e+01, -5.43597495e+01, -5.18736113e+01]),\n",
       " array([-1.24027615e+00,  5.19224382e+00,  6.01384415e+00,  8.12779600e-01,\n",
       "        -1.33717949e+00,  2.22024558e+00, -2.08055182e-02, -4.07909220e-01,\n",
       "         1.71935514e+00,  2.41748150e+00,  3.87861050e-01, -7.28043640e-01,\n",
       "        -6.99238345e-02,  3.27993458e-01,  1.59820249e-01, -6.47586931e-01,\n",
       "         7.23618632e+01, -5.44492826e+01, -5.23949624e+01]),\n",
       " array([-1.23968261e+00,  5.19072291e+00,  6.01463179e+00,  8.12902551e-01,\n",
       "        -1.33799252e+00,  2.22056568e+00, -2.15745304e-02, -4.07952441e-01,\n",
       "         1.71971223e+00,  2.41782049e+00,  3.87569971e-01, -7.28210432e-01,\n",
       "        -6.99543542e-02,  3.27974776e-01,  1.59824454e-01, -6.50864674e-01,\n",
       "         7.27715722e+01, -5.45173881e+01, -5.27952657e+01]),\n",
       " array([-1.23922934e+00,  5.18955967e+00,  6.01522585e+00,  8.12999412e-01,\n",
       "        -1.33861025e+00,  2.22080973e+00, -2.21561512e-02, -4.07985595e-01,\n",
       "         1.71998581e+00,  2.41808082e+00,  3.87347432e-01, -7.28338696e-01,\n",
       "        -6.99775571e-02,  3.27960550e-01,  1.59827607e-01, -6.53369170e-01,\n",
       "         7.30849758e+01, -5.45691263e+01, -5.31015354e+01]),\n",
       " array([-1.23888397e+00,  5.18867232e+00,  6.01567420e+00,  8.13074926e-01,\n",
       "        -1.33907911e+00,  2.22099545e+00, -2.25960515e-02, -4.08010942e-01,\n",
       "         1.72019475e+00,  2.41828001e+00,  3.87177726e-01, -7.28436939e-01,\n",
       "        -6.99951765e-02,  3.27949734e-01,  1.59829977e-01, -6.55278248e-01,\n",
       "         7.33240719e+01, -5.46083911e+01, -5.33352238e+01]),\n",
       " array([-1.23862127e+00,  5.18799680e+00,  6.01601275e+00,  8.13133348e-01,\n",
       "        -1.33943468e+00,  2.22113659e+00, -2.29287719e-02, -4.08030270e-01,\n",
       "         1.72035397e+00,  2.41843201e+00,  3.87048560e-01, -7.28511960e-01,\n",
       "        -7.00085437e-02,  3.27941521e-01,  1.59831760e-01, -6.56730799e-01,\n",
       "         7.35061070e+01, -5.46381666e+01, -5.35131619e+01]),\n",
       " array([-1.23842171e+00,  5.18748332e+00,  6.01626851e+00,  8.13178293e-01,\n",
       "        -1.33970418e+00,  2.22124372e+00, -2.31804328e-02, -4.08044981e-01,\n",
       "         1.72047509e+00,  2.41854774e+00,  3.86950395e-01, -7.28569116e-01,\n",
       "        -7.00186778e-02,  3.27935289e-01,  1.59833103e-01, -6.57834449e-01,\n",
       "         7.36444839e+01, -5.46607328e+01, -5.36484359e+01]),\n",
       " array([-1.23827028e+00,  5.18709347e+00,  6.01646178e+00,  8.13212724e-01,\n",
       "        -1.33990835e+00,  2.22132498e+00, -2.33707869e-02, -4.08056160e-01,\n",
       "         1.72056709e+00,  2.41863572e+00,  3.86875875e-01, -7.28612588e-01,\n",
       "        -7.00263568e-02,  3.27930565e-01,  1.59834116e-01, -6.58672113e-01,\n",
       "         7.37495492e+01, -5.46778274e+01, -5.37511518e+01]),\n",
       " array([-1.23815545e+00,  5.18679775e+00,  6.01660786e+00,  8.13239019e-01,\n",
       "        -1.34006297e+00,  2.22138657e+00, -2.35147720e-02, -4.08064647e-01,\n",
       "         1.72063691e+00,  2.41870253e+00,  3.86819352e-01, -7.28645607e-01,\n",
       "        -7.00321731e-02,  3.27926985e-01,  1.59834881e-01, -6.59307380e-01,\n",
       "         7.38292505e+01, -5.46907729e+01, -5.38290746e+01]),\n",
       " array([-1.23806843e+00,  5.18657357e+00,  6.01671831e+00,  8.13259054e-01,\n",
       "        -1.34018003e+00,  2.22143323e+00, -2.36236850e-02, -4.08071083e-01,\n",
       "         1.72068985e+00,  2.41875321e+00,  3.86776508e-01, -7.28670662e-01,\n",
       "        -7.00365772e-02,  3.27924273e-01,  1.59835459e-01, -6.59788860e-01,\n",
       "         7.38896698e+01, -5.47005736e+01, -5.38881480e+01]),\n",
       " array([-1.23800251e+00,  5.18640372e+00,  6.01680181e+00,  8.13274291e-01,\n",
       "        -1.34026864e+00,  2.22146857e+00, -2.37060699e-02, -4.08075962e-01,\n",
       "         1.72072997e+00,  2.41879163e+00,  3.86744048e-01, -7.28689660e-01,\n",
       "        -7.00399111e-02,  3.27922220e-01,  1.59835895e-01, -6.60153610e-01,\n",
       "         7.39354484e+01, -5.47079920e+01, -5.39329079e+01]),\n",
       " array([-1.23795259e+00,  5.18627508e+00,  6.01686496e+00,  8.13285865e-01,\n",
       "        -1.34033570e+00,  2.22149532e+00, -2.37683889e-02, -4.08079658e-01,\n",
       "         1.72076036e+00,  2.41882074e+00,  3.86719465e-01, -7.28704056e-01,\n",
       "        -7.00424345e-02,  3.27920666e-01,  1.59836224e-01, -6.60429834e-01,\n",
       "         7.39701204e+01, -5.47136065e+01, -5.39668092e+01]),\n",
       " array([-1.23791480e+00,  5.18617768e+00,  6.01691271e+00,  8.13294646e-01,\n",
       "        -1.34038645e+00,  2.22151557e+00, -2.38155297e-02, -4.08082458e-01,\n",
       "         1.72078338e+00,  2.41884279e+00,  3.86700853e-01, -7.28714961e-01,\n",
       "        -7.00443442e-02,  3.27919489e-01,  1.59836474e-01, -6.60638961e-01,\n",
       "         7.39963727e+01, -5.47178551e+01, -5.39924783e+01]),\n",
       " array([-1.23788620e+00,  5.18610395e+00,  6.01694883e+00,  8.13301305e-01,\n",
       "        -1.34042485e+00,  2.22153090e+00, -2.38511892e-02, -4.08084577e-01,\n",
       "         1.72080080e+00,  2.41885949e+00,  3.86686764e-01, -7.28723219e-01,\n",
       "        -7.00457892e-02,  3.27918599e-01,  1.59836662e-01, -6.60797258e-01,\n",
       "         7.40162454e+01, -5.47210698e+01, -5.40119098e+01]),\n",
       " array([-1.23786455e+00,  5.18604815e+00,  6.01697615e+00,  8.13306351e-01,\n",
       "        -1.34045390e+00,  2.22154250e+00, -2.38781639e-02, -4.08086181e-01,\n",
       "         1.72081399e+00,  2.41887213e+00,  3.86676101e-01, -7.28729470e-01,\n",
       "        -7.00468826e-02,  3.27917925e-01,  1.59836804e-01, -6.60917061e-01,\n",
       "         7.40312864e+01, -5.47235022e+01, -5.40266169e+01])]"
      ]
     },
     "execution_count": 152,
     "metadata": {},
     "output_type": "execute_result"
    }
   ],
   "source": [
    "coefs"
   ]
  },
  {
   "cell_type": "code",
   "execution_count": 157,
   "metadata": {},
   "outputs": [
    {
     "data": {
      "image/png": "[encoded data removed]",
      "text/plain": [
       "<Figure size 432x288 with 1 Axes>"
      ]
     },
     "metadata": {
      "needs_background": "light"
     },
     "output_type": "display_data"
    }
   ],
   "source": [
    "ax = plt.gca()\n",
    "ax.plot(alphas, coefs) \n",
    "ax.set_xscale(\"log\")"
   ]
  },
  {
   "cell_type": "code",
   "execution_count": 158,
   "metadata": {},
   "outputs": [
    {
     "data": {
      "text/plain": [
       "479.22577261077737"
      ]
     },
     "execution_count": 158,
     "metadata": {},
     "output_type": "execute_result"
    }
   ],
   "source": [
    "ridge_model = Ridge().fit(X_train, y_train)\n",
    "y_pred = ridge_model.predict(X_test)\n",
    "np.sqrt(mean_squared_error(y_test, y_pred))"
   ]
  },
  {
   "cell_type": "markdown",
   "metadata": {},
   "source": [
    "# Model Tuning"
   ]
  },
  {
   "cell_type": "code",
   "execution_count": 163,
   "metadata": {
    "collapsed": true,
    "jupyter": {
     "outputs_hidden": true
    }
   },
   "outputs": [
    {
     "data": {
      "text/plain": [
       "\u001b[0;31mInit signature:\u001b[0m\n",
       "\u001b[0mRidge\u001b[0m\u001b[0;34m(\u001b[0m\u001b[0;34m\u001b[0m\n",
       "\u001b[0;34m\u001b[0m    \u001b[0malpha\u001b[0m\u001b[0;34m=\u001b[0m\u001b[0;36m1.0\u001b[0m\u001b[0;34m,\u001b[0m\u001b[0;34m\u001b[0m\n",
       "\u001b[0;34m\u001b[0m    \u001b[0mfit_intercept\u001b[0m\u001b[0;34m=\u001b[0m\u001b[0;32mTrue\u001b[0m\u001b[0;34m,\u001b[0m\u001b[0;34m\u001b[0m\n",
       "\u001b[0;34m\u001b[0m    \u001b[0mnormalize\u001b[0m\u001b[0;34m=\u001b[0m\u001b[0;32mFalse\u001b[0m\u001b[0;34m,\u001b[0m\u001b[0;34m\u001b[0m\n",
       "\u001b[0;34m\u001b[0m    \u001b[0mcopy_X\u001b[0m\u001b[0;34m=\u001b[0m\u001b[0;32mTrue\u001b[0m\u001b[0;34m,\u001b[0m\u001b[0;34m\u001b[0m\n",
       "\u001b[0;34m\u001b[0m    \u001b[0mmax_iter\u001b[0m\u001b[0;34m=\u001b[0m\u001b[0;32mNone\u001b[0m\u001b[0;34m,\u001b[0m\u001b[0;34m\u001b[0m\n",
       "\u001b[0;34m\u001b[0m    \u001b[0mtol\u001b[0m\u001b[0;34m=\u001b[0m\u001b[0;36m0.001\u001b[0m\u001b[0;34m,\u001b[0m\u001b[0;34m\u001b[0m\n",
       "\u001b[0;34m\u001b[0m    \u001b[0msolver\u001b[0m\u001b[0;34m=\u001b[0m\u001b[0;34m'auto'\u001b[0m\u001b[0;34m,\u001b[0m\u001b[0;34m\u001b[0m\n",
       "\u001b[0;34m\u001b[0m    \u001b[0mrandom_state\u001b[0m\u001b[0;34m=\u001b[0m\u001b[0;32mNone\u001b[0m\u001b[0;34m,\u001b[0m\u001b[0;34m\u001b[0m\n",
       "\u001b[0;34m\u001b[0m\u001b[0;34m)\u001b[0m\u001b[0;34m\u001b[0m\u001b[0;34m\u001b[0m\u001b[0m\n",
       "\u001b[0;31mDocstring:\u001b[0m     \n",
       "Linear least squares with l2 regularization.\n",
       "\n",
       "Minimizes the objective function::\n",
       "\n",
       "||y - Xw||^2_2 + alpha * ||w||^2_2\n",
       "\n",
       "This model solves a regression model where the loss function is\n",
       "the linear least squares function and regularization is given by\n",
       "the l2-norm. Also known as Ridge Regression or Tikhonov regularization.\n",
       "This estimator has built-in support for multi-variate regression\n",
       "(i.e., when y is a 2d-array of shape (n_samples, n_targets)).\n",
       "\n",
       "Read more in the :ref:`User Guide <ridge_regression>`.\n",
       "\n",
       "Parameters\n",
       "----------\n",
       "alpha : {float, ndarray of shape (n_targets,)}, default=1.0\n",
       "    Regularization strength; must be a positive float. Regularization\n",
       "    improves the conditioning of the problem and reduces the variance of\n",
       "    the estimates. Larger values specify stronger regularization.\n",
       "    Alpha corresponds to ``C^-1`` in other linear models such as\n",
       "    LogisticRegression or LinearSVC. If an array is passed, penalties are\n",
       "    assumed to be specific to the targets. Hence they must correspond in\n",
       "    number.\n",
       "\n",
       "fit_intercept : bool, default=True\n",
       "    Whether to calculate the intercept for this model. If set\n",
       "    to false, no intercept will be used in calculations\n",
       "    (i.e. data is expected to be centered).\n",
       "\n",
       "normalize : bool, default=False\n",
       "    This parameter is ignored when ``fit_intercept`` is set to False.\n",
       "    If True, the regressors X will be normalized before regression by\n",
       "    subtracting the mean and dividing by the l2-norm.\n",
       "    If you wish to standardize, please use\n",
       "    :class:`sklearn.preprocessing.StandardScaler` before calling ``fit``\n",
       "    on an estimator with ``normalize=False``.\n",
       "\n",
       "copy_X : bool, default=True\n",
       "    If True, X will be copied; else, it may be overwritten.\n",
       "\n",
       "max_iter : int, default=None\n",
       "    Maximum number of iterations for conjugate gradient solver.\n",
       "    For 'sparse_cg' and 'lsqr' solvers, the default value is determined\n",
       "    by scipy.sparse.linalg. For 'sag' solver, the default value is 1000.\n",
       "\n",
       "tol : float, default=1e-3\n",
       "    Precision of the solution.\n",
       "\n",
       "solver : {'auto', 'svd', 'cholesky', 'lsqr', 'sparse_cg', 'sag', 'saga'},         default='auto'\n",
       "    Solver to use in the computational routines:\n",
       "\n",
       "    - 'auto' chooses the solver automatically based on the type of data.\n",
       "\n",
       "    - 'svd' uses a Singular Value Decomposition of X to compute the Ridge\n",
       "      coefficients. More stable for singular matrices than\n",
       "      'cholesky'.\n",
       "\n",
       "    - 'cholesky' uses the standard scipy.linalg.solve function to\n",
       "      obtain a closed-form solution.\n",
       "\n",
       "    - 'sparse_cg' uses the conjugate gradient solver as found in\n",
       "      scipy.sparse.linalg.cg. As an iterative algorithm, this solver is\n",
       "      more appropriate than 'cholesky' for large-scale data\n",
       "      (possibility to set `tol` and `max_iter`).\n",
       "\n",
       "    - 'lsqr' uses the dedicated regularized least-squares routine\n",
       "      scipy.sparse.linalg.lsqr. It is the fastest and uses an iterative\n",
       "      procedure.\n",
       "\n",
       "    - 'sag' uses a Stochastic Average Gradient descent, and 'saga' uses\n",
       "      its improved, unbiased version named SAGA. Both methods also use an\n",
       "      iterative procedure, and are often faster than other solvers when\n",
       "      both n_samples and n_features are large. Note that 'sag' and\n",
       "      'saga' fast convergence is only guaranteed on features with\n",
       "      approximately the same scale. You can preprocess the data with a\n",
       "      scaler from sklearn.preprocessing.\n",
       "\n",
       "    All last five solvers support both dense and sparse data. However, only\n",
       "    'sparse_cg' supports sparse input when `fit_intercept` is True.\n",
       "\n",
       "    .. versionadded:: 0.17\n",
       "       Stochastic Average Gradient descent solver.\n",
       "    .. versionadded:: 0.19\n",
       "       SAGA solver.\n",
       "\n",
       "random_state : int, RandomState instance, default=None\n",
       "    The seed of the pseudo random number generator to use when shuffling\n",
       "    the data.  If int, random_state is the seed used by the random number\n",
       "    generator; If RandomState instance, random_state is the random number\n",
       "    generator; If None, the random number generator is the RandomState\n",
       "    instance used by `np.random`. Used when ``solver`` == 'sag'.\n",
       "\n",
       "    .. versionadded:: 0.17\n",
       "       *random_state* to support Stochastic Average Gradient.\n",
       "\n",
       "Attributes\n",
       "----------\n",
       "coef_ : ndarray of shape (n_features,) or (n_targets, n_features)\n",
       "    Weight vector(s).\n",
       "\n",
       "intercept_ : float or ndarray of shape (n_targets,)\n",
       "    Independent term in decision function. Set to 0.0 if\n",
       "    ``fit_intercept = False``.\n",
       "\n",
       "n_iter_ : None or ndarray of shape (n_targets,)\n",
       "    Actual number of iterations for each target. Available only for\n",
       "    sag and lsqr solvers. Other solvers will return None.\n",
       "\n",
       "    .. versionadded:: 0.17\n",
       "\n",
       "See also\n",
       "--------\n",
       "RidgeClassifier : Ridge classifier\n",
       "RidgeCV : Ridge regression with built-in cross validation\n",
       ":class:`sklearn.kernel_ridge.KernelRidge` : Kernel ridge regression\n",
       "    combines ridge regression with the kernel trick\n",
       "\n",
       "Examples\n",
       "--------\n",
       ">>> from sklearn.linear_model import Ridge\n",
       ">>> import numpy as np\n",
       ">>> n_samples, n_features = 10, 5\n",
       ">>> rng = np.random.RandomState(0)\n",
       ">>> y = rng.randn(n_samples)\n",
       ">>> X = rng.randn(n_samples, n_features)\n",
       ">>> clf = Ridge(alpha=1.0)\n",
       ">>> clf.fit(X, y)\n",
       "Ridge()\n",
       "\u001b[0;31mFile:\u001b[0m           ~/anaconda3/lib/python3.7/site-packages/sklearn/linear_model/_ridge.py\n",
       "\u001b[0;31mType:\u001b[0m           ABCMeta\n",
       "\u001b[0;31mSubclasses:\u001b[0m     \n"
      ]
     },
     "metadata": {},
     "output_type": "display_data"
    }
   ],
   "source": [
    "?Ridge"
   ]
  },
  {
   "cell_type": "code",
   "execution_count": 172,
   "metadata": {},
   "outputs": [],
   "source": [
    "alphas1 = np.random.randint(0,1000,100)\n",
    "alphas2 = 10**np.linspace(10,-2,100)*0.5\n",
    "alphas3 = np.linspace(0,1,1000)"
   ]
  },
  {
   "cell_type": "code",
   "execution_count": 212,
   "metadata": {},
   "outputs": [],
   "source": [
    "ridge_cv = RidgeCV(alphas = alphas2, scoring = \"neg_mean_squared_error\", cv = 10, normalize = True)"
   ]
  },
  {
   "cell_type": "code",
   "execution_count": 213,
   "metadata": {},
   "outputs": [
    {
     "data": {
      "text/plain": [
       "RidgeCV(alphas=array([5.00000000e+09, 3.78231664e+09, 2.86118383e+09, 2.16438064e+09,\n",
       "       1.63727458e+09, 1.23853818e+09, 9.36908711e+08, 7.08737081e+08,\n",
       "       5.36133611e+08, 4.05565415e+08, 3.06795364e+08, 2.32079442e+08,\n",
       "       1.75559587e+08, 1.32804389e+08, 1.00461650e+08, 7.59955541e+07,\n",
       "       5.74878498e+07, 4.34874501e+07, 3.28966612e+07, 2.48851178e+07,\n",
       "       1.88246790e+07, 1.42401793e+0...\n",
       "       3.28966612e-01, 2.48851178e-01, 1.88246790e-01, 1.42401793e-01,\n",
       "       1.07721735e-01, 8.14875417e-02, 6.16423370e-02, 4.66301673e-02,\n",
       "       3.52740116e-02, 2.66834962e-02, 2.01850863e-02, 1.52692775e-02,\n",
       "       1.15506485e-02, 8.73764200e-03, 6.60970574e-03, 5.00000000e-03]),\n",
       "        cv=10, fit_intercept=True, gcv_mode=None, normalize=True,\n",
       "        scoring='neg_mean_squared_error', store_cv_values=False)"
      ]
     },
     "execution_count": 213,
     "metadata": {},
     "output_type": "execute_result"
    }
   ],
   "source": [
    "ridge_cv.fit(X_train, y_train)"
   ]
  },
  {
   "cell_type": "code",
   "execution_count": 180,
   "metadata": {},
   "outputs": [
    {
     "data": {
      "text/plain": [
       "RidgeCV(alphas=array([5.00000000e+09, 3.78231664e+09, 2.86118383e+09, 2.16438064e+09,\n",
       "       1.63727458e+09, 1.23853818e+09, 9.36908711e+08, 7.08737081e+08,\n",
       "       5.36133611e+08, 4.05565415e+08, 3.06795364e+08, 2.32079442e+08,\n",
       "       1.75559587e+08, 1.32804389e+08, 1.00461650e+08, 7.59955541e+07,\n",
       "       5.74878498e+07, 4.34874501e+07, 3.28966612e+07, 2.48851178e+07,\n",
       "       1.88246790e+07, 1.42401793e+0...\n",
       "       3.28966612e-01, 2.48851178e-01, 1.88246790e-01, 1.42401793e-01,\n",
       "       1.07721735e-01, 8.14875417e-02, 6.16423370e-02, 4.66301673e-02,\n",
       "       3.52740116e-02, 2.66834962e-02, 2.01850863e-02, 1.52692775e-02,\n",
       "       1.15506485e-02, 8.73764200e-03, 6.60970574e-03, 5.00000000e-03]),\n",
       "        cv=10, fit_intercept=True, gcv_mode=None, normalize=True,\n",
       "        scoring='neg_mean_squared_error', store_cv_values=False)"
      ]
     },
     "execution_count": 180,
     "metadata": {},
     "output_type": "execute_result"
    }
   ],
   "source": [
    "ridge_cv.fit(X, y)"
   ]
  },
  {
   "cell_type": "code",
   "execution_count": null,
   "metadata": {},
   "outputs": [],
   "source": []
  },
  {
   "cell_type": "code",
   "execution_count": 214,
   "metadata": {},
   "outputs": [
    {
     "data": {
      "text/plain": [
       "0.3289666123287841"
      ]
     },
     "execution_count": 214,
     "metadata": {},
     "output_type": "execute_result"
    }
   ],
   "source": [
    "ridge_cv.alpha_"
   ]
  },
  {
   "cell_type": "markdown",
   "metadata": {},
   "source": [
    "# TUNED MODEL"
   ]
  },
  {
   "cell_type": "code",
   "execution_count": 210,
   "metadata": {},
   "outputs": [
    {
     "data": {
      "text/plain": [
       "384.0918730232824"
      ]
     },
     "execution_count": 210,
     "metadata": {},
     "output_type": "execute_result"
    }
   ],
   "source": [
    "ridge_tuned = Ridge(alpha = 0.3289666123287841).fit(X_train, y_train)\n",
    "y_pred = ridge_tuned.predict(X_test)\n",
    "np.sqrt(mean_squared_error(y_test, y_pred))"
   ]
  },
  {
   "cell_type": "code",
   "execution_count": 211,
   "metadata": {},
   "outputs": [
    {
     "data": {
      "text/plain": [
       "303.34471923970403"
      ]
     },
     "execution_count": 211,
     "metadata": {},
     "output_type": "execute_result"
    }
   ],
   "source": [
    "ridge_tuned = Ridge(alpha = 0.011).fit(X, y)\n",
    "y_pred = ridge_tuned.predict(X)\n",
    "np.sqrt(mean_squared_error(y, y_pred))"
   ]
  },
  {
   "cell_type": "code",
   "execution_count": 183,
   "metadata": {},
   "outputs": [
    {
     "data": {
      "text/plain": [
       "(263, 20)"
      ]
     },
     "execution_count": 183,
     "metadata": {},
     "output_type": "execute_result"
    }
   ],
   "source": [
    "df.shape"
   ]
  },
  {
   "cell_type": "code",
   "execution_count": 185,
   "metadata": {},
   "outputs": [
    {
     "data": {
      "text/html": [
       "<div>\n",
       "<style scoped>\n",
       "    .dataframe tbody tr th:only-of-type {\n",
       "        vertical-align: middle;\n",
       "    }\n",
       "\n",
       "    .dataframe tbody tr th {\n",
       "        vertical-align: top;\n",
       "    }\n",
       "\n",
       "    .dataframe thead th {\n",
       "        text-align: right;\n",
       "    }\n",
       "</style>\n",
       "<table border=\"1\" class=\"dataframe\">\n",
       "  <thead>\n",
       "    <tr style=\"text-align: right;\">\n",
       "      <th></th>\n",
       "      <th>AtBat</th>\n",
       "      <th>Hits</th>\n",
       "      <th>HmRun</th>\n",
       "      <th>Runs</th>\n",
       "      <th>RBI</th>\n",
       "      <th>Walks</th>\n",
       "      <th>Years</th>\n",
       "      <th>CAtBat</th>\n",
       "      <th>CHits</th>\n",
       "      <th>CHmRun</th>\n",
       "      <th>CRuns</th>\n",
       "      <th>CRBI</th>\n",
       "      <th>CWalks</th>\n",
       "      <th>PutOuts</th>\n",
       "      <th>Assists</th>\n",
       "      <th>Errors</th>\n",
       "      <th>Salary</th>\n",
       "      <th>League_N</th>\n",
       "      <th>Division_W</th>\n",
       "      <th>NewLeague_N</th>\n",
       "    </tr>\n",
       "  </thead>\n",
       "  <tbody>\n",
       "    <tr>\n",
       "      <th>AtBat</th>\n",
       "      <td>1.000000</td>\n",
       "      <td>0.963969</td>\n",
       "      <td>0.555102</td>\n",
       "      <td>0.899829</td>\n",
       "      <td>0.796015</td>\n",
       "      <td>0.624448</td>\n",
       "      <td>0.012725</td>\n",
       "      <td>0.207166</td>\n",
       "      <td>0.225341</td>\n",
       "      <td>0.212422</td>\n",
       "      <td>0.237278</td>\n",
       "      <td>0.221393</td>\n",
       "      <td>0.132926</td>\n",
       "      <td>0.309607</td>\n",
       "      <td>0.342117</td>\n",
       "      <td>0.325577</td>\n",
       "      <td>0.394771</td>\n",
       "      <td>-0.153176</td>\n",
       "      <td>-0.056341</td>\n",
       "      <td>-0.089838</td>\n",
       "    </tr>\n",
       "    <tr>\n",
       "      <th>Hits</th>\n",
       "      <td>0.963969</td>\n",
       "      <td>1.000000</td>\n",
       "      <td>0.530627</td>\n",
       "      <td>0.910630</td>\n",
       "      <td>0.788478</td>\n",
       "      <td>0.587311</td>\n",
       "      <td>0.018598</td>\n",
       "      <td>0.206678</td>\n",
       "      <td>0.235606</td>\n",
       "      <td>0.189364</td>\n",
       "      <td>0.238896</td>\n",
       "      <td>0.219384</td>\n",
       "      <td>0.122971</td>\n",
       "      <td>0.299688</td>\n",
       "      <td>0.303975</td>\n",
       "      <td>0.279876</td>\n",
       "      <td>0.438675</td>\n",
       "      <td>-0.153522</td>\n",
       "      <td>-0.083266</td>\n",
       "      <td>-0.094990</td>\n",
       "    </tr>\n",
       "    <tr>\n",
       "      <th>HmRun</th>\n",
       "      <td>0.555102</td>\n",
       "      <td>0.530627</td>\n",
       "      <td>1.000000</td>\n",
       "      <td>0.631076</td>\n",
       "      <td>0.849107</td>\n",
       "      <td>0.440454</td>\n",
       "      <td>0.113488</td>\n",
       "      <td>0.217464</td>\n",
       "      <td>0.217496</td>\n",
       "      <td>0.492526</td>\n",
       "      <td>0.258347</td>\n",
       "      <td>0.349858</td>\n",
       "      <td>0.227183</td>\n",
       "      <td>0.250931</td>\n",
       "      <td>-0.161602</td>\n",
       "      <td>-0.009743</td>\n",
       "      <td>0.343028</td>\n",
       "      <td>-0.222965</td>\n",
       "      <td>-0.034851</td>\n",
       "      <td>-0.199424</td>\n",
       "    </tr>\n",
       "    <tr>\n",
       "      <th>Runs</th>\n",
       "      <td>0.899829</td>\n",
       "      <td>0.910630</td>\n",
       "      <td>0.631076</td>\n",
       "      <td>1.000000</td>\n",
       "      <td>0.778692</td>\n",
       "      <td>0.697015</td>\n",
       "      <td>-0.011975</td>\n",
       "      <td>0.171811</td>\n",
       "      <td>0.191327</td>\n",
       "      <td>0.229701</td>\n",
       "      <td>0.237831</td>\n",
       "      <td>0.202335</td>\n",
       "      <td>0.163700</td>\n",
       "      <td>0.271160</td>\n",
       "      <td>0.179258</td>\n",
       "      <td>0.192609</td>\n",
       "      <td>0.419859</td>\n",
       "      <td>-0.206001</td>\n",
       "      <td>-0.107672</td>\n",
       "      <td>-0.154911</td>\n",
       "    </tr>\n",
       "    <tr>\n",
       "      <th>RBI</th>\n",
       "      <td>0.796015</td>\n",
       "      <td>0.788478</td>\n",
       "      <td>0.849107</td>\n",
       "      <td>0.778692</td>\n",
       "      <td>1.000000</td>\n",
       "      <td>0.569505</td>\n",
       "      <td>0.129668</td>\n",
       "      <td>0.278126</td>\n",
       "      <td>0.292137</td>\n",
       "      <td>0.442190</td>\n",
       "      <td>0.307226</td>\n",
       "      <td>0.387777</td>\n",
       "      <td>0.233619</td>\n",
       "      <td>0.312065</td>\n",
       "      <td>0.062902</td>\n",
       "      <td>0.150155</td>\n",
       "      <td>0.449457</td>\n",
       "      <td>-0.185858</td>\n",
       "      <td>-0.090157</td>\n",
       "      <td>-0.143549</td>\n",
       "    </tr>\n",
       "    <tr>\n",
       "      <th>Walks</th>\n",
       "      <td>0.624448</td>\n",
       "      <td>0.587311</td>\n",
       "      <td>0.440454</td>\n",
       "      <td>0.697015</td>\n",
       "      <td>0.569505</td>\n",
       "      <td>1.000000</td>\n",
       "      <td>0.134793</td>\n",
       "      <td>0.269450</td>\n",
       "      <td>0.270795</td>\n",
       "      <td>0.349582</td>\n",
       "      <td>0.332977</td>\n",
       "      <td>0.312697</td>\n",
       "      <td>0.429140</td>\n",
       "      <td>0.280855</td>\n",
       "      <td>0.102523</td>\n",
       "      <td>0.081937</td>\n",
       "      <td>0.443867</td>\n",
       "      <td>-0.065760</td>\n",
       "      <td>-0.072732</td>\n",
       "      <td>-0.028461</td>\n",
       "    </tr>\n",
       "    <tr>\n",
       "      <th>Years</th>\n",
       "      <td>0.012725</td>\n",
       "      <td>0.018598</td>\n",
       "      <td>0.113488</td>\n",
       "      <td>-0.011975</td>\n",
       "      <td>0.129668</td>\n",
       "      <td>0.134793</td>\n",
       "      <td>1.000000</td>\n",
       "      <td>0.915681</td>\n",
       "      <td>0.897844</td>\n",
       "      <td>0.722371</td>\n",
       "      <td>0.876649</td>\n",
       "      <td>0.863809</td>\n",
       "      <td>0.837524</td>\n",
       "      <td>-0.020019</td>\n",
       "      <td>-0.085118</td>\n",
       "      <td>-0.156512</td>\n",
       "      <td>0.400657</td>\n",
       "      <td>-0.032893</td>\n",
       "      <td>-0.020316</td>\n",
       "      <td>-0.023964</td>\n",
       "    </tr>\n",
       "    <tr>\n",
       "      <th>CAtBat</th>\n",
       "      <td>0.207166</td>\n",
       "      <td>0.206678</td>\n",
       "      <td>0.217464</td>\n",
       "      <td>0.171811</td>\n",
       "      <td>0.278126</td>\n",
       "      <td>0.269450</td>\n",
       "      <td>0.915681</td>\n",
       "      <td>1.000000</td>\n",
       "      <td>0.995057</td>\n",
       "      <td>0.801676</td>\n",
       "      <td>0.982747</td>\n",
       "      <td>0.950730</td>\n",
       "      <td>0.906712</td>\n",
       "      <td>0.053393</td>\n",
       "      <td>-0.007897</td>\n",
       "      <td>-0.070478</td>\n",
       "      <td>0.526135</td>\n",
       "      <td>-0.023704</td>\n",
       "      <td>-0.018623</td>\n",
       "      <td>-0.004294</td>\n",
       "    </tr>\n",
       "    <tr>\n",
       "      <th>CHits</th>\n",
       "      <td>0.225341</td>\n",
       "      <td>0.235606</td>\n",
       "      <td>0.217496</td>\n",
       "      <td>0.191327</td>\n",
       "      <td>0.292137</td>\n",
       "      <td>0.270795</td>\n",
       "      <td>0.897844</td>\n",
       "      <td>0.995057</td>\n",
       "      <td>1.000000</td>\n",
       "      <td>0.786652</td>\n",
       "      <td>0.984542</td>\n",
       "      <td>0.946797</td>\n",
       "      <td>0.890718</td>\n",
       "      <td>0.067348</td>\n",
       "      <td>-0.013144</td>\n",
       "      <td>-0.068036</td>\n",
       "      <td>0.548910</td>\n",
       "      <td>-0.022853</td>\n",
       "      <td>-0.023642</td>\n",
       "      <td>0.000887</td>\n",
       "    </tr>\n",
       "    <tr>\n",
       "      <th>CHmRun</th>\n",
       "      <td>0.212422</td>\n",
       "      <td>0.189364</td>\n",
       "      <td>0.492526</td>\n",
       "      <td>0.229701</td>\n",
       "      <td>0.442190</td>\n",
       "      <td>0.349582</td>\n",
       "      <td>0.722371</td>\n",
       "      <td>0.801676</td>\n",
       "      <td>0.786652</td>\n",
       "      <td>1.000000</td>\n",
       "      <td>0.825625</td>\n",
       "      <td>0.927903</td>\n",
       "      <td>0.810878</td>\n",
       "      <td>0.093822</td>\n",
       "      <td>-0.188886</td>\n",
       "      <td>-0.165369</td>\n",
       "      <td>0.524931</td>\n",
       "      <td>-0.107299</td>\n",
       "      <td>-0.026987</td>\n",
       "      <td>-0.100298</td>\n",
       "    </tr>\n",
       "    <tr>\n",
       "      <th>CRuns</th>\n",
       "      <td>0.237278</td>\n",
       "      <td>0.238896</td>\n",
       "      <td>0.258347</td>\n",
       "      <td>0.237831</td>\n",
       "      <td>0.307226</td>\n",
       "      <td>0.332977</td>\n",
       "      <td>0.876649</td>\n",
       "      <td>0.982747</td>\n",
       "      <td>0.984542</td>\n",
       "      <td>0.825625</td>\n",
       "      <td>1.000000</td>\n",
       "      <td>0.945677</td>\n",
       "      <td>0.927768</td>\n",
       "      <td>0.059087</td>\n",
       "      <td>-0.038895</td>\n",
       "      <td>-0.094081</td>\n",
       "      <td>0.562678</td>\n",
       "      <td>-0.054318</td>\n",
       "      <td>-0.046812</td>\n",
       "      <td>-0.034618</td>\n",
       "    </tr>\n",
       "    <tr>\n",
       "      <th>CRBI</th>\n",
       "      <td>0.221393</td>\n",
       "      <td>0.219384</td>\n",
       "      <td>0.349858</td>\n",
       "      <td>0.202335</td>\n",
       "      <td>0.387777</td>\n",
       "      <td>0.312697</td>\n",
       "      <td>0.863809</td>\n",
       "      <td>0.950730</td>\n",
       "      <td>0.946797</td>\n",
       "      <td>0.927903</td>\n",
       "      <td>0.945677</td>\n",
       "      <td>1.000000</td>\n",
       "      <td>0.889137</td>\n",
       "      <td>0.095375</td>\n",
       "      <td>-0.096559</td>\n",
       "      <td>-0.115316</td>\n",
       "      <td>0.566966</td>\n",
       "      <td>-0.051421</td>\n",
       "      <td>-0.021564</td>\n",
       "      <td>-0.037184</td>\n",
       "    </tr>\n",
       "    <tr>\n",
       "      <th>CWalks</th>\n",
       "      <td>0.132926</td>\n",
       "      <td>0.122971</td>\n",
       "      <td>0.227183</td>\n",
       "      <td>0.163700</td>\n",
       "      <td>0.233619</td>\n",
       "      <td>0.429140</td>\n",
       "      <td>0.837524</td>\n",
       "      <td>0.906712</td>\n",
       "      <td>0.890718</td>\n",
       "      <td>0.810878</td>\n",
       "      <td>0.927768</td>\n",
       "      <td>0.889137</td>\n",
       "      <td>1.000000</td>\n",
       "      <td>0.058160</td>\n",
       "      <td>-0.066243</td>\n",
       "      <td>-0.129936</td>\n",
       "      <td>0.489822</td>\n",
       "      <td>-0.028988</td>\n",
       "      <td>-0.050494</td>\n",
       "      <td>-0.025703</td>\n",
       "    </tr>\n",
       "    <tr>\n",
       "      <th>PutOuts</th>\n",
       "      <td>0.309607</td>\n",
       "      <td>0.299688</td>\n",
       "      <td>0.250931</td>\n",
       "      <td>0.271160</td>\n",
       "      <td>0.312065</td>\n",
       "      <td>0.280855</td>\n",
       "      <td>-0.020019</td>\n",
       "      <td>0.053393</td>\n",
       "      <td>0.067348</td>\n",
       "      <td>0.093822</td>\n",
       "      <td>0.059087</td>\n",
       "      <td>0.095375</td>\n",
       "      <td>0.058160</td>\n",
       "      <td>1.000000</td>\n",
       "      <td>-0.043390</td>\n",
       "      <td>0.075306</td>\n",
       "      <td>0.300480</td>\n",
       "      <td>0.039525</td>\n",
       "      <td>-0.025351</td>\n",
       "      <td>0.055048</td>\n",
       "    </tr>\n",
       "    <tr>\n",
       "      <th>Assists</th>\n",
       "      <td>0.342117</td>\n",
       "      <td>0.303975</td>\n",
       "      <td>-0.161602</td>\n",
       "      <td>0.179258</td>\n",
       "      <td>0.062902</td>\n",
       "      <td>0.102523</td>\n",
       "      <td>-0.085118</td>\n",
       "      <td>-0.007897</td>\n",
       "      <td>-0.013144</td>\n",
       "      <td>-0.188886</td>\n",
       "      <td>-0.038895</td>\n",
       "      <td>-0.096559</td>\n",
       "      <td>-0.066243</td>\n",
       "      <td>-0.043390</td>\n",
       "      <td>1.000000</td>\n",
       "      <td>0.703505</td>\n",
       "      <td>0.025436</td>\n",
       "      <td>0.052060</td>\n",
       "      <td>-0.017486</td>\n",
       "      <td>0.044136</td>\n",
       "    </tr>\n",
       "    <tr>\n",
       "      <th>Errors</th>\n",
       "      <td>0.325577</td>\n",
       "      <td>0.279876</td>\n",
       "      <td>-0.009743</td>\n",
       "      <td>0.192609</td>\n",
       "      <td>0.150155</td>\n",
       "      <td>0.081937</td>\n",
       "      <td>-0.156512</td>\n",
       "      <td>-0.070478</td>\n",
       "      <td>-0.068036</td>\n",
       "      <td>-0.165369</td>\n",
       "      <td>-0.094081</td>\n",
       "      <td>-0.115316</td>\n",
       "      <td>-0.129936</td>\n",
       "      <td>0.075306</td>\n",
       "      <td>0.703505</td>\n",
       "      <td>1.000000</td>\n",
       "      <td>-0.005401</td>\n",
       "      <td>0.091774</td>\n",
       "      <td>-0.000557</td>\n",
       "      <td>0.063173</td>\n",
       "    </tr>\n",
       "    <tr>\n",
       "      <th>Salary</th>\n",
       "      <td>0.394771</td>\n",
       "      <td>0.438675</td>\n",
       "      <td>0.343028</td>\n",
       "      <td>0.419859</td>\n",
       "      <td>0.449457</td>\n",
       "      <td>0.443867</td>\n",
       "      <td>0.400657</td>\n",
       "      <td>0.526135</td>\n",
       "      <td>0.548910</td>\n",
       "      <td>0.524931</td>\n",
       "      <td>0.562678</td>\n",
       "      <td>0.566966</td>\n",
       "      <td>0.489822</td>\n",
       "      <td>0.300480</td>\n",
       "      <td>0.025436</td>\n",
       "      <td>-0.005401</td>\n",
       "      <td>1.000000</td>\n",
       "      <td>-0.014282</td>\n",
       "      <td>-0.192514</td>\n",
       "      <td>-0.002834</td>\n",
       "    </tr>\n",
       "    <tr>\n",
       "      <th>League_N</th>\n",
       "      <td>-0.153176</td>\n",
       "      <td>-0.153522</td>\n",
       "      <td>-0.222965</td>\n",
       "      <td>-0.206001</td>\n",
       "      <td>-0.185858</td>\n",
       "      <td>-0.065760</td>\n",
       "      <td>-0.032893</td>\n",
       "      <td>-0.023704</td>\n",
       "      <td>-0.022853</td>\n",
       "      <td>-0.107299</td>\n",
       "      <td>-0.054318</td>\n",
       "      <td>-0.051421</td>\n",
       "      <td>-0.028988</td>\n",
       "      <td>0.039525</td>\n",
       "      <td>0.052060</td>\n",
       "      <td>0.091774</td>\n",
       "      <td>-0.014282</td>\n",
       "      <td>1.000000</td>\n",
       "      <td>-0.002723</td>\n",
       "      <td>0.862652</td>\n",
       "    </tr>\n",
       "    <tr>\n",
       "      <th>Division_W</th>\n",
       "      <td>-0.056341</td>\n",
       "      <td>-0.083266</td>\n",
       "      <td>-0.034851</td>\n",
       "      <td>-0.107672</td>\n",
       "      <td>-0.090157</td>\n",
       "      <td>-0.072732</td>\n",
       "      <td>-0.020316</td>\n",
       "      <td>-0.018623</td>\n",
       "      <td>-0.023642</td>\n",
       "      <td>-0.026987</td>\n",
       "      <td>-0.046812</td>\n",
       "      <td>-0.021564</td>\n",
       "      <td>-0.050494</td>\n",
       "      <td>-0.025351</td>\n",
       "      <td>-0.017486</td>\n",
       "      <td>-0.000557</td>\n",
       "      <td>-0.192514</td>\n",
       "      <td>-0.002723</td>\n",
       "      <td>1.000000</td>\n",
       "      <td>-0.002436</td>\n",
       "    </tr>\n",
       "    <tr>\n",
       "      <th>NewLeague_N</th>\n",
       "      <td>-0.089838</td>\n",
       "      <td>-0.094990</td>\n",
       "      <td>-0.199424</td>\n",
       "      <td>-0.154911</td>\n",
       "      <td>-0.143549</td>\n",
       "      <td>-0.028461</td>\n",
       "      <td>-0.023964</td>\n",
       "      <td>-0.004294</td>\n",
       "      <td>0.000887</td>\n",
       "      <td>-0.100298</td>\n",
       "      <td>-0.034618</td>\n",
       "      <td>-0.037184</td>\n",
       "      <td>-0.025703</td>\n",
       "      <td>0.055048</td>\n",
       "      <td>0.044136</td>\n",
       "      <td>0.063173</td>\n",
       "      <td>-0.002834</td>\n",
       "      <td>0.862652</td>\n",
       "      <td>-0.002436</td>\n",
       "      <td>1.000000</td>\n",
       "    </tr>\n",
       "  </tbody>\n",
       "</table>\n",
       "</div>"
      ],
      "text/plain": [
       "                AtBat      Hits     HmRun      Runs       RBI     Walks  \\\n",
       "AtBat        1.000000  0.963969  0.555102  0.899829  0.796015  0.624448   \n",
       "Hits         0.963969  1.000000  0.530627  0.910630  0.788478  0.587311   \n",
       "HmRun        0.555102  0.530627  1.000000  0.631076  0.849107  0.440454   \n",
       "Runs         0.899829  0.910630  0.631076  1.000000  0.778692  0.697015   \n",
       "RBI          0.796015  0.788478  0.849107  0.778692  1.000000  0.569505   \n",
       "Walks        0.624448  0.587311  0.440454  0.697015  0.569505  1.000000   \n",
       "Years        0.012725  0.018598  0.113488 -0.011975  0.129668  0.134793   \n",
       "CAtBat       0.207166  0.206678  0.217464  0.171811  0.278126  0.269450   \n",
       "CHits        0.225341  0.235606  0.217496  0.191327  0.292137  0.270795   \n",
       "CHmRun       0.212422  0.189364  0.492526  0.229701  0.442190  0.349582   \n",
       "CRuns        0.237278  0.238896  0.258347  0.237831  0.307226  0.332977   \n",
       "CRBI         0.221393  0.219384  0.349858  0.202335  0.387777  0.312697   \n",
       "CWalks       0.132926  0.122971  0.227183  0.163700  0.233619  0.429140   \n",
       "PutOuts      0.309607  0.299688  0.250931  0.271160  0.312065  0.280855   \n",
       "Assists      0.342117  0.303975 -0.161602  0.179258  0.062902  0.102523   \n",
       "Errors       0.325577  0.279876 -0.009743  0.192609  0.150155  0.081937   \n",
       "Salary       0.394771  0.438675  0.343028  0.419859  0.449457  0.443867   \n",
       "League_N    -0.153176 -0.153522 -0.222965 -0.206001 -0.185858 -0.065760   \n",
       "Division_W  -0.056341 -0.083266 -0.034851 -0.107672 -0.090157 -0.072732   \n",
       "NewLeague_N -0.089838 -0.094990 -0.199424 -0.154911 -0.143549 -0.028461   \n",
       "\n",
       "                Years    CAtBat     CHits    CHmRun     CRuns      CRBI  \\\n",
       "AtBat        0.012725  0.207166  0.225341  0.212422  0.237278  0.221393   \n",
       "Hits         0.018598  0.206678  0.235606  0.189364  0.238896  0.219384   \n",
       "HmRun        0.113488  0.217464  0.217496  0.492526  0.258347  0.349858   \n",
       "Runs        -0.011975  0.171811  0.191327  0.229701  0.237831  0.202335   \n",
       "RBI          0.129668  0.278126  0.292137  0.442190  0.307226  0.387777   \n",
       "Walks        0.134793  0.269450  0.270795  0.349582  0.332977  0.312697   \n",
       "Years        1.000000  0.915681  0.897844  0.722371  0.876649  0.863809   \n",
       "CAtBat       0.915681  1.000000  0.995057  0.801676  0.982747  0.950730   \n",
       "CHits        0.897844  0.995057  1.000000  0.786652  0.984542  0.946797   \n",
       "CHmRun       0.722371  0.801676  0.786652  1.000000  0.825625  0.927903   \n",
       "CRuns        0.876649  0.982747  0.984542  0.825625  1.000000  0.945677   \n",
       "CRBI         0.863809  0.950730  0.946797  0.927903  0.945677  1.000000   \n",
       "CWalks       0.837524  0.906712  0.890718  0.810878  0.927768  0.889137   \n",
       "PutOuts     -0.020019  0.053393  0.067348  0.093822  0.059087  0.095375   \n",
       "Assists     -0.085118 -0.007897 -0.013144 -0.188886 -0.038895 -0.096559   \n",
       "Errors      -0.156512 -0.070478 -0.068036 -0.165369 -0.094081 -0.115316   \n",
       "Salary       0.400657  0.526135  0.548910  0.524931  0.562678  0.566966   \n",
       "League_N    -0.032893 -0.023704 -0.022853 -0.107299 -0.054318 -0.051421   \n",
       "Division_W  -0.020316 -0.018623 -0.023642 -0.026987 -0.046812 -0.021564   \n",
       "NewLeague_N -0.023964 -0.004294  0.000887 -0.100298 -0.034618 -0.037184   \n",
       "\n",
       "               CWalks   PutOuts   Assists    Errors    Salary  League_N  \\\n",
       "AtBat        0.132926  0.309607  0.342117  0.325577  0.394771 -0.153176   \n",
       "Hits         0.122971  0.299688  0.303975  0.279876  0.438675 -0.153522   \n",
       "HmRun        0.227183  0.250931 -0.161602 -0.009743  0.343028 -0.222965   \n",
       "Runs         0.163700  0.271160  0.179258  0.192609  0.419859 -0.206001   \n",
       "RBI          0.233619  0.312065  0.062902  0.150155  0.449457 -0.185858   \n",
       "Walks        0.429140  0.280855  0.102523  0.081937  0.443867 -0.065760   \n",
       "Years        0.837524 -0.020019 -0.085118 -0.156512  0.400657 -0.032893   \n",
       "CAtBat       0.906712  0.053393 -0.007897 -0.070478  0.526135 -0.023704   \n",
       "CHits        0.890718  0.067348 -0.013144 -0.068036  0.548910 -0.022853   \n",
       "CHmRun       0.810878  0.093822 -0.188886 -0.165369  0.524931 -0.107299   \n",
       "CRuns        0.927768  0.059087 -0.038895 -0.094081  0.562678 -0.054318   \n",
       "CRBI         0.889137  0.095375 -0.096559 -0.115316  0.566966 -0.051421   \n",
       "CWalks       1.000000  0.058160 -0.066243 -0.129936  0.489822 -0.028988   \n",
       "PutOuts      0.058160  1.000000 -0.043390  0.075306  0.300480  0.039525   \n",
       "Assists     -0.066243 -0.043390  1.000000  0.703505  0.025436  0.052060   \n",
       "Errors      -0.129936  0.075306  0.703505  1.000000 -0.005401  0.091774   \n",
       "Salary       0.489822  0.300480  0.025436 -0.005401  1.000000 -0.014282   \n",
       "League_N    -0.028988  0.039525  0.052060  0.091774 -0.014282  1.000000   \n",
       "Division_W  -0.050494 -0.025351 -0.017486 -0.000557 -0.192514 -0.002723   \n",
       "NewLeague_N -0.025703  0.055048  0.044136  0.063173 -0.002834  0.862652   \n",
       "\n",
       "             Division_W  NewLeague_N  \n",
       "AtBat         -0.056341    -0.089838  \n",
       "Hits          -0.083266    -0.094990  \n",
       "HmRun         -0.034851    -0.199424  \n",
       "Runs          -0.107672    -0.154911  \n",
       "RBI           -0.090157    -0.143549  \n",
       "Walks         -0.072732    -0.028461  \n",
       "Years         -0.020316    -0.023964  \n",
       "CAtBat        -0.018623    -0.004294  \n",
       "CHits         -0.023642     0.000887  \n",
       "CHmRun        -0.026987    -0.100298  \n",
       "CRuns         -0.046812    -0.034618  \n",
       "CRBI          -0.021564    -0.037184  \n",
       "CWalks        -0.050494    -0.025703  \n",
       "PutOuts       -0.025351     0.055048  \n",
       "Assists       -0.017486     0.044136  \n",
       "Errors        -0.000557     0.063173  \n",
       "Salary        -0.192514    -0.002834  \n",
       "League_N      -0.002723     0.862652  \n",
       "Division_W     1.000000    -0.002436  \n",
       "NewLeague_N   -0.002436     1.000000  "
      ]
     },
     "execution_count": 185,
     "metadata": {},
     "output_type": "execute_result"
    }
   ],
   "source": [
    "df.corr()"
   ]
  },
  {
   "cell_type": "code",
   "execution_count": 186,
   "metadata": {},
   "outputs": [
    {
     "data": {
      "text/html": [
       "<div>\n",
       "<style scoped>\n",
       "    .dataframe tbody tr th:only-of-type {\n",
       "        vertical-align: middle;\n",
       "    }\n",
       "\n",
       "    .dataframe tbody tr th {\n",
       "        vertical-align: top;\n",
       "    }\n",
       "\n",
       "    .dataframe thead th {\n",
       "        text-align: right;\n",
       "    }\n",
       "</style>\n",
       "<table border=\"1\" class=\"dataframe\">\n",
       "  <thead>\n",
       "    <tr style=\"text-align: right;\">\n",
       "      <th></th>\n",
       "      <th>AtBat</th>\n",
       "      <th>Hits</th>\n",
       "      <th>HmRun</th>\n",
       "      <th>Runs</th>\n",
       "      <th>RBI</th>\n",
       "      <th>Walks</th>\n",
       "      <th>Years</th>\n",
       "      <th>CAtBat</th>\n",
       "      <th>CHits</th>\n",
       "      <th>CHmRun</th>\n",
       "      <th>CRuns</th>\n",
       "      <th>CRBI</th>\n",
       "      <th>CWalks</th>\n",
       "      <th>PutOuts</th>\n",
       "      <th>Assists</th>\n",
       "      <th>Errors</th>\n",
       "      <th>Salary</th>\n",
       "      <th>League_N</th>\n",
       "      <th>Division_W</th>\n",
       "      <th>NewLeague_N</th>\n",
       "    </tr>\n",
       "  </thead>\n",
       "  <tbody>\n",
       "    <tr>\n",
       "      <th>1</th>\n",
       "      <td>315</td>\n",
       "      <td>81</td>\n",
       "      <td>7</td>\n",
       "      <td>24</td>\n",
       "      <td>38</td>\n",
       "      <td>39</td>\n",
       "      <td>14</td>\n",
       "      <td>3449</td>\n",
       "      <td>835</td>\n",
       "      <td>69</td>\n",
       "      <td>321</td>\n",
       "      <td>414</td>\n",
       "      <td>375</td>\n",
       "      <td>632</td>\n",
       "      <td>43</td>\n",
       "      <td>10</td>\n",
       "      <td>475.0</td>\n",
       "      <td>1</td>\n",
       "      <td>1</td>\n",
       "      <td>1</td>\n",
       "    </tr>\n",
       "    <tr>\n",
       "      <th>2</th>\n",
       "      <td>479</td>\n",
       "      <td>130</td>\n",
       "      <td>18</td>\n",
       "      <td>66</td>\n",
       "      <td>72</td>\n",
       "      <td>76</td>\n",
       "      <td>3</td>\n",
       "      <td>1624</td>\n",
       "      <td>457</td>\n",
       "      <td>63</td>\n",
       "      <td>224</td>\n",
       "      <td>266</td>\n",
       "      <td>263</td>\n",
       "      <td>880</td>\n",
       "      <td>82</td>\n",
       "      <td>14</td>\n",
       "      <td>480.0</td>\n",
       "      <td>0</td>\n",
       "      <td>1</td>\n",
       "      <td>0</td>\n",
       "    </tr>\n",
       "    <tr>\n",
       "      <th>3</th>\n",
       "      <td>496</td>\n",
       "      <td>141</td>\n",
       "      <td>20</td>\n",
       "      <td>65</td>\n",
       "      <td>78</td>\n",
       "      <td>37</td>\n",
       "      <td>11</td>\n",
       "      <td>5628</td>\n",
       "      <td>1575</td>\n",
       "      <td>225</td>\n",
       "      <td>828</td>\n",
       "      <td>838</td>\n",
       "      <td>354</td>\n",
       "      <td>200</td>\n",
       "      <td>11</td>\n",
       "      <td>3</td>\n",
       "      <td>500.0</td>\n",
       "      <td>1</td>\n",
       "      <td>0</td>\n",
       "      <td>1</td>\n",
       "    </tr>\n",
       "    <tr>\n",
       "      <th>4</th>\n",
       "      <td>321</td>\n",
       "      <td>87</td>\n",
       "      <td>10</td>\n",
       "      <td>39</td>\n",
       "      <td>42</td>\n",
       "      <td>30</td>\n",
       "      <td>2</td>\n",
       "      <td>396</td>\n",
       "      <td>101</td>\n",
       "      <td>12</td>\n",
       "      <td>48</td>\n",
       "      <td>46</td>\n",
       "      <td>33</td>\n",
       "      <td>805</td>\n",
       "      <td>40</td>\n",
       "      <td>4</td>\n",
       "      <td>91.5</td>\n",
       "      <td>1</td>\n",
       "      <td>0</td>\n",
       "      <td>1</td>\n",
       "    </tr>\n",
       "    <tr>\n",
       "      <th>5</th>\n",
       "      <td>594</td>\n",
       "      <td>169</td>\n",
       "      <td>4</td>\n",
       "      <td>74</td>\n",
       "      <td>51</td>\n",
       "      <td>35</td>\n",
       "      <td>11</td>\n",
       "      <td>4408</td>\n",
       "      <td>1133</td>\n",
       "      <td>19</td>\n",
       "      <td>501</td>\n",
       "      <td>336</td>\n",
       "      <td>194</td>\n",
       "      <td>282</td>\n",
       "      <td>421</td>\n",
       "      <td>25</td>\n",
       "      <td>750.0</td>\n",
       "      <td>0</td>\n",
       "      <td>1</td>\n",
       "      <td>0</td>\n",
       "    </tr>\n",
       "  </tbody>\n",
       "</table>\n",
       "</div>"
      ],
      "text/plain": [
       "   AtBat  Hits  HmRun  Runs  RBI  Walks  Years  CAtBat  CHits  CHmRun  CRuns  \\\n",
       "1    315    81      7    24   38     39     14    3449    835      69    321   \n",
       "2    479   130     18    66   72     76      3    1624    457      63    224   \n",
       "3    496   141     20    65   78     37     11    5628   1575     225    828   \n",
       "4    321    87     10    39   42     30      2     396    101      12     48   \n",
       "5    594   169      4    74   51     35     11    4408   1133      19    501   \n",
       "\n",
       "   CRBI  CWalks  PutOuts  Assists  Errors  Salary  League_N  Division_W  \\\n",
       "1   414     375      632       43      10   475.0         1           1   \n",
       "2   266     263      880       82      14   480.0         0           1   \n",
       "3   838     354      200       11       3   500.0         1           0   \n",
       "4    46      33      805       40       4    91.5         1           0   \n",
       "5   336     194      282      421      25   750.0         0           1   \n",
       "\n",
       "   NewLeague_N  \n",
       "1            1  \n",
       "2            0  \n",
       "3            1  \n",
       "4            1  \n",
       "5            0  "
      ]
     },
     "execution_count": 186,
     "metadata": {},
     "output_type": "execute_result"
    }
   ],
   "source": [
    "df.head()"
   ]
  },
  {
   "cell_type": "code",
   "execution_count": null,
   "metadata": {},
   "outputs": [],
   "source": [
    "𝑦_𝑖 = 𝑏_0+ 𝑏_1 𝑥_𝑖\n",
    "\n",
    "B0 + B1*X1 + ... + BPXP"
   ]
  },
  {
   "cell_type": "code",
   "execution_count": null,
   "metadata": {},
   "outputs": [],
   "source": [
    "yi^2 -2*yi*yhat + yhat^2"
   ]
  },
  {
   "cell_type": "code",
   "execution_count": null,
   "metadata": {},
   "outputs": [],
   "source": [
    "yi^2 -2*yi*(B0 + B1*X1 + ... + BP*XP) + (B0 + B1*X1 + ... + BPXP)^2"
   ]
  },
  {
   "cell_type": "code",
   "execution_count": null,
   "metadata": {},
   "outputs": [],
   "source": [
    "-2*yi*(B0 + B1*X1 + ... + BP*XP)"
   ]
  },
  {
   "cell_type": "code",
   "execution_count": null,
   "metadata": {},
   "outputs": [],
   "source": [
    "-B0 - B1X1 - B2X2 - .. - BP*XP"
   ]
  },
  {
   "cell_type": "code",
   "execution_count": null,
   "metadata": {},
   "outputs": [],
   "source": [
    "lambda*B1^2 + lambda*B2^2 + ... + lambda*BP^2"
   ]
  },
  {
   "cell_type": "code",
   "execution_count": null,
   "metadata": {},
   "outputs": [],
   "source": [
    "0.3*(-B1)^2 + (- B1)X1"
   ]
  }
 ],
 "metadata": {
  "kernelspec": {
   "display_name": "Python 3",
   "language": "python",
   "name": "python3"
  },
  "language_info": {
   "codemirror_mode": {
    "name": "ipython",
    "version": 3
   },
   "file_extension": ".py",
   "mimetype": "text/x-python",
   "name": "python",
   "nbconvert_exporter": "python",
   "pygments_lexer": "ipython3",
   "version": "3.7.6"
  }
 },
 "nbformat": 4,
 "nbformat_minor": 4
}
